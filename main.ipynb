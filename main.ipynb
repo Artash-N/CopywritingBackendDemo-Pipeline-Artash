{
 "cells": [
  {
   "cell_type": "code",
   "id": "initial_id",
   "metadata": {
    "collapsed": true,
    "ExecuteTime": {
     "end_time": "2024-12-22T06:32:15.788691Z",
     "start_time": "2024-12-22T06:32:15.496555Z"
    }
   },
   "source": [
    "# Import necessary modules\n",
    "import os\n",
    "\n",
    "import pandas as pd\n",
    "from dotenv import load_dotenv\n",
    "from modules.paragraph_generation import generate_paragraph, generate_advertising_paragraph\n",
    "from modules.data_processing import load_and_filter_data, preprocess_columns_simple, enrich_advertiser_data_with_domain\n",
    "from modules.linkedin_requests import initialize_client, generate_linkedin_request\n",
    "# Load API key\n",
    "load_dotenv()\n",
    "ANTHROPIC_API_KEY = os.getenv('ANTHROPIC_API_KEY')"
   ],
   "outputs": [],
   "execution_count": 1
  },
  {
   "metadata": {
    "ExecuteTime": {
     "end_time": "2024-12-22T06:32:16.997130Z",
     "start_time": "2024-12-22T06:32:16.833605Z"
    }
   },
   "cell_type": "code",
   "source": [
    "# Load and preprocess datasets\n",
    "people_path = './data/YC F24 Founder People.csv'\n",
    "personal_data_path = './data/Sudarshan Sridharan People.csv'\n",
    "\n",
    "relevant_columns = [\n",
    "    'full_name', 'title', 'location', 'company', 'company_linkedin',\n",
    "    'company_description', 'sub_title', 'summary', 'current_job_description',\n",
    "    'person_industry', 'skills', 'education', 'work_history', 'company_domain'\n",
    "]\n",
    "\n",
    "people_data = load_and_filter_data(people_path, relevant_columns)\n",
    "people_data = preprocess_columns_simple(people_data)\n",
    "\n",
    "personal_data = load_and_filter_data(personal_data_path, relevant_columns)\n",
    "personal_data = preprocess_columns_simple(personal_data)\n",
    "# Enrich personal data with domain information\n",
    "personal_data = enrich_advertiser_data_with_domain(personal_data)\n",
    "# Generate paragraphs\n",
    "people_data['descriptive_paragraph'] = people_data.apply(generate_paragraph, axis=1)\n",
    "personal_data['advertising_paragraph'] = personal_data.apply(generate_advertising_paragraph, axis=1)"
   ],
   "id": "ae2c9af474bcfd2c",
   "outputs": [],
   "execution_count": 2
  },
  {
   "metadata": {
    "ExecuteTime": {
     "end_time": "2024-12-22T06:32:29.486800Z",
     "start_time": "2024-12-22T06:32:29.475726Z"
    }
   },
   "cell_type": "code",
   "source": "personal_data",
   "id": "1ac65d91399a7e5b",
   "outputs": [
    {
     "data": {
      "text/plain": [
       "             full_name    title  \\\n",
       "0  Sudarshan Sridharan  Founder   \n",
       "\n",
       "                                            location   company  \\\n",
       "0  San Francisco Bay, San Francisco Bay Area, Uni...  Pipeline   \n",
       "\n",
       "                                company_linkedin  \\\n",
       "0  https://www.linkedin.com/company/withpipeline   \n",
       "\n",
       "                                 company_description      sub_title  summary  \\\n",
       "0  Get more leads, close more deals. Pipeline set...  CEO, Pipeline      NaN   \n",
       "\n",
       "                             current_job_description  \\\n",
       "0  Pipeline puts LinkedIn prospecting and outreac...   \n",
       "\n",
       "                        person_industry     skills           education  \\\n",
       "0  Technology, Information and Internet  Investing  Clemson University   \n",
       "\n",
       "                                        work_history    company_domain  \\\n",
       "0  Pipeline, Fion Technologies, SaveMAPS, Second ...  withpipeline.com   \n",
       "\n",
       "                                         domain_info  \\\n",
       "0  Sign Up → Sign Up → NEW Supercharge Your Sales...   \n",
       "\n",
       "                               advertising_paragraph  \n",
       "0  Sudarshan Sridharan is the Founder at Pipeline...  "
      ],
      "text/html": [
       "<div>\n",
       "<style scoped>\n",
       "    .dataframe tbody tr th:only-of-type {\n",
       "        vertical-align: middle;\n",
       "    }\n",
       "\n",
       "    .dataframe tbody tr th {\n",
       "        vertical-align: top;\n",
       "    }\n",
       "\n",
       "    .dataframe thead th {\n",
       "        text-align: right;\n",
       "    }\n",
       "</style>\n",
       "<table border=\"1\" class=\"dataframe\">\n",
       "  <thead>\n",
       "    <tr style=\"text-align: right;\">\n",
       "      <th></th>\n",
       "      <th>full_name</th>\n",
       "      <th>title</th>\n",
       "      <th>location</th>\n",
       "      <th>company</th>\n",
       "      <th>company_linkedin</th>\n",
       "      <th>company_description</th>\n",
       "      <th>sub_title</th>\n",
       "      <th>summary</th>\n",
       "      <th>current_job_description</th>\n",
       "      <th>person_industry</th>\n",
       "      <th>skills</th>\n",
       "      <th>education</th>\n",
       "      <th>work_history</th>\n",
       "      <th>company_domain</th>\n",
       "      <th>domain_info</th>\n",
       "      <th>advertising_paragraph</th>\n",
       "    </tr>\n",
       "  </thead>\n",
       "  <tbody>\n",
       "    <tr>\n",
       "      <th>0</th>\n",
       "      <td>Sudarshan Sridharan</td>\n",
       "      <td>Founder</td>\n",
       "      <td>San Francisco Bay, San Francisco Bay Area, Uni...</td>\n",
       "      <td>Pipeline</td>\n",
       "      <td>https://www.linkedin.com/company/withpipeline</td>\n",
       "      <td>Get more leads, close more deals. Pipeline set...</td>\n",
       "      <td>CEO, Pipeline</td>\n",
       "      <td>NaN</td>\n",
       "      <td>Pipeline puts LinkedIn prospecting and outreac...</td>\n",
       "      <td>Technology, Information and Internet</td>\n",
       "      <td>Investing</td>\n",
       "      <td>Clemson University</td>\n",
       "      <td>Pipeline, Fion Technologies, SaveMAPS, Second ...</td>\n",
       "      <td>withpipeline.com</td>\n",
       "      <td>Sign Up → Sign Up → NEW Supercharge Your Sales...</td>\n",
       "      <td>Sudarshan Sridharan is the Founder at Pipeline...</td>\n",
       "    </tr>\n",
       "  </tbody>\n",
       "</table>\n",
       "</div>"
      ]
     },
     "execution_count": 3,
     "metadata": {},
     "output_type": "execute_result"
    }
   ],
   "execution_count": 3
  },
  {
   "metadata": {
    "ExecuteTime": {
     "end_time": "2024-12-22T06:33:04.486032Z",
     "start_time": "2024-12-22T06:32:34.536046Z"
    }
   },
   "cell_type": "code",
   "source": [
    "# Load the system prompt from a .txt file\n",
    "with open('system_prompt.txt', 'r') as file:\n",
    "    system_prompt = file.read()\n",
    "\n",
    "# Initialize Anthropic client\n",
    "client = initialize_client(ANTHROPIC_API_KEY)\n",
    "\n",
    "# Use the first advertiser's data for testing\n",
    "advertising_paragraph = personal_data['advertising_paragraph'].iloc[0]\n",
    "domain_info = personal_data['domain_info'].iloc[0]\n",
    "\n",
    "# Process only the first 10 entries\n",
    "max_entries = 10\n",
    "\n",
    "print(\"Generated LinkedIn Requests:\\n\" + \"=\" * 30)\n",
    "\n",
    "for idx, row in people_data.iterrows():\n",
    "    if idx >= max_entries:\n",
    "        break\n",
    "    \n",
    "    descriptive_paragraph = row['descriptive_paragraph']\n",
    "    linkedin_request = generate_linkedin_request(client, advertising_paragraph, descriptive_paragraph, domain_info, system_prompt)\n",
    "    \n",
    "    # Format the output nicely\n",
    "    from_name = \"Advertiser Name\"  # Replace with the actual advertiser's name if available\n",
    "    to_name = row['full_name']  # Assuming 'full_name' column exists for the person being contacted\n",
    "    \n",
    "    print(f\"From: {from_name}\")\n",
    "    print(f\"To: {to_name}\")\n",
    "    print(f\"Message: {linkedin_request}\\n\")\n",
    "    print(\"-\" * 30)\n"
   ],
   "id": "759b8896e2d3fe83",
   "outputs": [
    {
     "name": "stdout",
     "output_type": "stream",
     "text": [
      "Generated LinkedIn Requests:\n",
      "==============================\n",
      "From: Advertiser Name\n",
      "To: Edward Aryee\n",
      "Message: Hi Edward! Fellow startup founder here. Noticed your impressive journey from Google to founding SRE.ai. I'm building Pipeline to help tech founders with outreach automation. Would love to connect and exchange insights about scaling B2B solutions in the YC ecosystem.\n",
      "\n",
      "------------------------------\n",
      "From: Advertiser Name\n",
      "To: Victor Cheng\n",
      "Message: Hey Victor! Fellow founder here - noticed you're building vly.ai through YC F24. As someone who's also in the B2B tech space, I'd love to connect and share insights about scaling startups. Your tech stack expertise is impressive!\n",
      "\n",
      "------------------------------\n",
      "From: Advertiser Name\n",
      "To: Daryl Budiman\n",
      "Message: Hi Daryl! Fellow startup founder here - noticed you're building Andoria through YC. As someone developing automation tools for LinkedIn outreach at Pipeline, I'd love to connect and explore potential synergies between our ventures. Your technical background really stands out!\n",
      "\n",
      "------------------------------\n",
      "From: Advertiser Name\n",
      "To: Finn Mallery\n",
      "Message: Hi Finn! As a fellow founder in the tech space, I'm impressed by your work with Origami Agents. I'm building Pipeline to help streamline outreach and saw your Stanford background - would love to exchange startup insights and learn from your YC experience.\n",
      "\n",
      "------------------------------\n",
      "From: Advertiser Name\n",
      "To: Arvind V.\n",
      "Message: Hi Arvind! Fellow founder here - noticed your background in early-stage startups and YC F24. I've been building tools to help founders streamline their outreach and networking. Would love to connect and share insights about scaling B2B relationships, especially given your experience with strategic partnerships.\n",
      "\n",
      "------------------------------\n",
      "From: Advertiser Name\n",
      "To: Daniel Edrisian\n",
      "Message: Hi Daniel! Fellow founder here - noticed you're building Alex (YC F24). I'm working on making LinkedIn automation more efficient for founders like us. Your experience at Google and Facebook caught my eye. Would love to connect and share startup insights!\n",
      "\n",
      "------------------------------\n",
      "From: Advertiser Name\n",
      "To: Shardool Patel\n",
      "Message: Hi Shardool! Fellow founder and tech enthusiast here. Love your work with Ryvn and your journey from McMaster to YC. As someone building in the automation space, I'd love to connect and share insights about scaling tech startups. Your DevOps background really caught my eye.\n",
      "\n",
      "------------------------------\n",
      "From: Advertiser Name\n",
      "To: Philipp Baumanns\n",
      "Message: Hi Philipp! Fellow founder and YC enthusiast here. Love what you're building at telli. As someone working on sales automation tools, I'd love to exchange insights about scaling early-stage companies and learn from your McKinsey & YC experience. Would you be open to connecting?\n",
      "\n",
      "------------------------------\n",
      "From: Advertiser Name\n",
      "To: Akhil Gupta\n",
      "Message: Hi Akhil! Fellow founder here - noticed your work with Fresco in YC. As someone building in the tech space, I'd love to connect and exchange insights about scaling early-stage companies. Your background in clean energy and ML is fascinating!\n",
      "\n",
      "------------------------------\n",
      "From: Advertiser Name\n",
      "To: Chidi Williams\n",
      "Message: Hi Chidi! Fellow tech founder here. Noticed your impressive journey from Goldman to founding Rulebase. I'm building Pipeline to help founders like us streamline outreach and CRM processes. Would love to exchange startup experiences and insights!\n",
      "\n",
      "------------------------------\n"
     ]
    }
   ],
   "execution_count": 4
  }
 ],
 "metadata": {
  "kernelspec": {
   "display_name": "Python 3",
   "language": "python",
   "name": "python3"
  },
  "language_info": {
   "codemirror_mode": {
    "name": "ipython",
    "version": 2
   },
   "file_extension": ".py",
   "mimetype": "text/x-python",
   "name": "python",
   "nbconvert_exporter": "python",
   "pygments_lexer": "ipython2",
   "version": "2.7.6"
  }
 },
 "nbformat": 4,
 "nbformat_minor": 5
}
