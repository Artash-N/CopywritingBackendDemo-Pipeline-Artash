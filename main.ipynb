{
 "cells": [
  {
   "cell_type": "code",
   "id": "initial_id",
   "metadata": {
    "collapsed": true,
    "ExecuteTime": {
     "end_time": "2024-12-24T06:03:30.528246Z",
     "start_time": "2024-12-24T06:03:30.123294Z"
    }
   },
   "source": [
    "# Import necessary modules\n",
    "import os\n",
    "import pandas as pd\n",
    "from dotenv import load_dotenv\n",
    "from modules.paragraph_generation import generate_paragraph, generate_advertising_paragraph\n",
    "from modules.data_processing import load_and_filter_data, preprocess_columns_simple, enrich_advertiser_data_with_domain\n",
    "from modules.linkedin_requests import initialize_client, generate_linkedin_request, generate_followup_message\n",
    "\n",
    "# Load API key\n",
    "load_dotenv()\n",
    "ANTHROPIC_API_KEY = os.getenv('ANTHROPIC_API_KEY')\n",
    "pd.set_option('display.expand_frame_repr', False)\n"
   ],
   "outputs": [],
   "execution_count": 1
  },
  {
   "metadata": {
    "ExecuteTime": {
     "end_time": "2024-12-24T06:03:30.717444Z",
     "start_time": "2024-12-24T06:03:30.529102Z"
    }
   },
   "cell_type": "code",
   "source": [
    "# Load and preprocess datasets\n",
    "people_path = './data/YC F24 Founder People.csv'\n",
    "personal_data_path = './data/Sudarshan Sridharan People.csv'\n",
    "\n",
    "relevant_columns = [\n",
    "    'full_name', 'title', 'location', 'company', 'company_linkedin',\n",
    "    'company_description', 'sub_title', 'summary', 'current_job_description',\n",
    "    'person_industry', 'skills', 'education', 'work_history', 'company_domain'\n",
    "]\n",
    "\n",
    "people_data = load_and_filter_data(people_path, relevant_columns)\n",
    "people_data = preprocess_columns_simple(people_data)\n",
    "\n",
    "personal_data = load_and_filter_data(personal_data_path, relevant_columns)\n",
    "personal_data = preprocess_columns_simple(personal_data)\n",
    "\n",
    "# Enrich personal data with domain information\n",
    "personal_data = enrich_advertiser_data_with_domain(personal_data)\n",
    "\n",
    "# Generate paragraphs\n",
    "people_data['descriptive_paragraph'] = people_data.apply(generate_paragraph, axis=1)\n",
    "personal_data['advertising_paragraph'] = personal_data.apply(generate_advertising_paragraph, axis=1)\n"
   ],
   "id": "ae2c9af474bcfd2c",
   "outputs": [],
   "execution_count": 2
  },
  {
   "metadata": {
    "ExecuteTime": {
     "end_time": "2024-12-24T06:03:30.726388Z",
     "start_time": "2024-12-24T06:03:30.718096Z"
    }
   },
   "cell_type": "code",
   "source": "personal_data",
   "id": "1ac65d91399a7e5b",
   "outputs": [
    {
     "data": {
      "text/plain": [
       "             full_name    title                                           location   company                               company_linkedin                                company_description      sub_title  summary                            current_job_description                       person_industry     skills           education                                       work_history    company_domain                                        domain_info                              advertising_paragraph\n",
       "0  Sudarshan Sridharan  Founder  San Francisco Bay, San Francisco Bay Area, Uni...  Pipeline  https://www.linkedin.com/company/withpipeline  Get more leads, close more deals. Pipeline set...  CEO, Pipeline      NaN  Pipeline puts LinkedIn prospecting and outreac...  Technology, Information and Internet  Investing  Clemson University  Pipeline, Fion Technologies, SaveMAPS, Second ...  withpipeline.com  Sign Up → Sign Up → NEW Supercharge Your Sales...  Sudarshan Sridharan is the Founder at Pipeline..."
      ],
      "text/html": [
       "<div>\n",
       "<style scoped>\n",
       "    .dataframe tbody tr th:only-of-type {\n",
       "        vertical-align: middle;\n",
       "    }\n",
       "\n",
       "    .dataframe tbody tr th {\n",
       "        vertical-align: top;\n",
       "    }\n",
       "\n",
       "    .dataframe thead th {\n",
       "        text-align: right;\n",
       "    }\n",
       "</style>\n",
       "<table border=\"1\" class=\"dataframe\">\n",
       "  <thead>\n",
       "    <tr style=\"text-align: right;\">\n",
       "      <th></th>\n",
       "      <th>full_name</th>\n",
       "      <th>title</th>\n",
       "      <th>location</th>\n",
       "      <th>company</th>\n",
       "      <th>company_linkedin</th>\n",
       "      <th>company_description</th>\n",
       "      <th>sub_title</th>\n",
       "      <th>summary</th>\n",
       "      <th>current_job_description</th>\n",
       "      <th>person_industry</th>\n",
       "      <th>skills</th>\n",
       "      <th>education</th>\n",
       "      <th>work_history</th>\n",
       "      <th>company_domain</th>\n",
       "      <th>domain_info</th>\n",
       "      <th>advertising_paragraph</th>\n",
       "    </tr>\n",
       "  </thead>\n",
       "  <tbody>\n",
       "    <tr>\n",
       "      <th>0</th>\n",
       "      <td>Sudarshan Sridharan</td>\n",
       "      <td>Founder</td>\n",
       "      <td>San Francisco Bay, San Francisco Bay Area, Uni...</td>\n",
       "      <td>Pipeline</td>\n",
       "      <td>https://www.linkedin.com/company/withpipeline</td>\n",
       "      <td>Get more leads, close more deals. Pipeline set...</td>\n",
       "      <td>CEO, Pipeline</td>\n",
       "      <td>NaN</td>\n",
       "      <td>Pipeline puts LinkedIn prospecting and outreac...</td>\n",
       "      <td>Technology, Information and Internet</td>\n",
       "      <td>Investing</td>\n",
       "      <td>Clemson University</td>\n",
       "      <td>Pipeline, Fion Technologies, SaveMAPS, Second ...</td>\n",
       "      <td>withpipeline.com</td>\n",
       "      <td>Sign Up → Sign Up → NEW Supercharge Your Sales...</td>\n",
       "      <td>Sudarshan Sridharan is the Founder at Pipeline...</td>\n",
       "    </tr>\n",
       "  </tbody>\n",
       "</table>\n",
       "</div>"
      ]
     },
     "execution_count": 3,
     "metadata": {},
     "output_type": "execute_result"
    }
   ],
   "execution_count": 3
  },
  {
   "metadata": {
    "ExecuteTime": {
     "end_time": "2024-12-24T06:04:50.623218Z",
     "start_time": "2024-12-24T06:03:30.727143Z"
    }
   },
   "cell_type": "code",
   "source": [
    "# Load the system prompt from a .txt file\n",
    "with open('system_prompt.txt', 'r') as file:\n",
    "    system_prompt = file.read()\n",
    "\n",
    "# Initialize Anthropic client\n",
    "client = initialize_client(ANTHROPIC_API_KEY)\n",
    "\n",
    "# Use the first advertiser's data for testing\n",
    "advertising_paragraph = personal_data['advertising_paragraph'].iloc[0]\n",
    "domain_info = personal_data['domain_info'].iloc[0]\n",
    "\n",
    "# Process only the first 10 entries\n",
    "max_entries = 10\n",
    "\n",
    "results = []\n",
    "\n",
    "print(\"Generated LinkedIn Requests and Follow-Up Messages:\\n\" + \"=\" * 50)\n",
    "\n",
    "for idx, row in people_data.iterrows():\n",
    "    if idx >= max_entries:\n",
    "        break\n",
    "    \n",
    "    descriptive_paragraph = row['descriptive_paragraph']\n",
    "    \n",
    "    # Generate the connection request\n",
    "    connect_note = generate_linkedin_request(client, advertising_paragraph, descriptive_paragraph, domain_info, system_prompt)\n",
    "    \n",
    "    # Generate the follow-up message\n",
    "    follow_up_message = generate_followup_message(client, advertising_paragraph, descriptive_paragraph, domain_info, system_prompt)\n",
    "    \n",
    "    # Collect results\n",
    "    results.append({\n",
    "        'Name': row['full_name'],\n",
    "        'Connect Note': connect_note,\n",
    "        'Follow-Up Message': follow_up_message\n",
    "    })\n",
    "\n",
    "# Create DataFrame from results\n",
    "output_df = pd.DataFrame(results)\n",
    "\n",
    "# Display the DataFrame\n",
    "output_df.style.set_properties(**{'text-align': 'left'})\n",
    "\n",
    "# Save the DataFrame to a CSV for reference\n",
    "output_df.to_csv('linkedin_messages.csv', index=False)"
   ],
   "id": "759b8896e2d3fe83",
   "outputs": [
    {
     "name": "stdout",
     "output_type": "stream",
     "text": [
      "Generated LinkedIn Requests and Follow-Up Messages:\n",
      "==================================================\n"
     ]
    }
   ],
   "execution_count": 4
  },
  {
   "metadata": {
    "ExecuteTime": {
     "end_time": "2024-12-24T06:04:50.627771Z",
     "start_time": "2024-12-24T06:04:50.624620Z"
    }
   },
   "cell_type": "code",
   "source": "output_df.style",
   "id": "5f523fd094ec3fe3",
   "outputs": [
    {
     "data": {
      "text/plain": [
       "<pandas.io.formats.style.Styler at 0x1095a05c0>"
      ],
      "text/html": [
       "<style type=\"text/css\">\n",
       "</style>\n",
       "<table id=\"T_fbbb1\">\n",
       "  <thead>\n",
       "    <tr>\n",
       "      <th class=\"blank level0\" >&nbsp;</th>\n",
       "      <th id=\"T_fbbb1_level0_col0\" class=\"col_heading level0 col0\" >Name</th>\n",
       "      <th id=\"T_fbbb1_level0_col1\" class=\"col_heading level0 col1\" >Connect Note</th>\n",
       "      <th id=\"T_fbbb1_level0_col2\" class=\"col_heading level0 col2\" >Follow-Up Message</th>\n",
       "    </tr>\n",
       "  </thead>\n",
       "  <tbody>\n",
       "    <tr>\n",
       "      <th id=\"T_fbbb1_level0_row0\" class=\"row_heading level0 row0\" >0</th>\n",
       "      <td id=\"T_fbbb1_row0_col0\" class=\"data row0 col0\" >Edward Aryee</td>\n",
       "      <td id=\"T_fbbb1_row0_col1\" class=\"data row0 col1\" >Hey Edward - your work caught my interest in the YC batch. I'm a fellow founder in SF with a background in ML. Would love to learn more about what you're building with SRE.ai and swap founder experiences.</td>\n",
       "      <td id=\"T_fbbb1_row0_col2\" class=\"data row0 col2\" >Hey Edward! Saw you're building SRE.ai in the YC F24 batch - perfect timing for your YC journey. Your background at Google and Microsoft must give you some unique insights into SRE automation. Since you're in the early stages, thought you might find what we're doing interesting - we help YC companies automate their outbound sales stack so founders can focus on product. Would you be open to a quick call next week? I'd love to hear more about SRE.ai and share how other YC founders are handling sales automation.</td>\n",
       "    </tr>\n",
       "    <tr>\n",
       "      <th id=\"T_fbbb1_level0_row1\" class=\"row_heading level0 row1\" >1</th>\n",
       "      <td id=\"T_fbbb1_row1_col0\" class=\"data row1 col0\" >Victor Cheng</td>\n",
       "      <td id=\"T_fbbb1_row1_col1\" class=\"data row1 col1\" >Victor - congrats on getting into YC F24! Really curious to hear more about how vly.ai is approaching the AI space. I've been working closely with early-stage companies in SF and would love to exchange insights about the YC journey.</td>\n",
       "      <td id=\"T_fbbb1_row1_col2\" class=\"data row1 col2\" >Hey Victor - congrats on getting into YC F24! Really cool to see what you're building with vly.ai. I noticed you've built several tech companies before - especially impressed by what you did with Hatch Coding. I run Pipeline where we help B2B startups scale their outbound sales efforts (something I wish I had when starting my first company!). Since you're heading into YC, I'd love to share some insights on what's working for other YC founders we work with. Would you be open to a quick call next week? We could specifically discuss strategies that have worked well for AI/ML companies.</td>\n",
       "    </tr>\n",
       "    <tr>\n",
       "      <th id=\"T_fbbb1_level0_row2\" class=\"row_heading level0 row2\" >2</th>\n",
       "      <td id=\"T_fbbb1_row2_col0\" class=\"data row2 col0\" >Daryl Budiman</td>\n",
       "      <td id=\"T_fbbb1_row2_col1\" class=\"data row2 col1\" >Hey Daryl - congrats on getting into YC F24 with Andoria! I started my company post-Clemson and love seeing other founders build in the bay area. Would like to hear how you went from working on Marriage Pact at Stanford to starting your own venture.</td>\n",
       "      <td id=\"T_fbbb1_row2_col2\" class=\"data row2 col2\" >Thanks for connecting Daryl! Given your background building MarriagePact and now Andoria, you've got some serious experience scaling early-stage products. Pipeline helps YC founders like yourself automate outreach and keep their CRMs updated while they focus on building. Curious to hear what your outbound strategy looks like at Andoria - I've got some interesting insights from working with other YC companies in your batch. Would you be open to a quick call this week to explore if there's a fit?</td>\n",
       "    </tr>\n",
       "    <tr>\n",
       "      <th id=\"T_fbbb1_level0_row3\" class=\"row_heading level0 row3\" >3</th>\n",
       "      <td id=\"T_fbbb1_row3_col0\" class=\"data row3 col0\" >Finn Mallery</td>\n",
       "      <td id=\"T_fbbb1_row3_col1\" class=\"data row3 col1\" >Hey Finn! Saw Origami got into YC F24 - love that you're using AI to help indie game devs find their audience. Scaling agent distribution is a fascinating challenge. Would you be open to connecting? I helped grow a few early-stage startups and your mission really speaks to me.</td>\n",
       "      <td id=\"T_fbbb1_row3_col2\" class=\"data row3 col2\" >Hey Finn - congrats on getting into YC F24! As a fellow founder who's worked with early-stage B2B startups, I've seen how critical early sales motions are. We built Pipeline to help founders like you automate the tedious parts of outbound (especially helpful during YC when time is stretched thin). Would love to share some outbound strategies that worked well for other YC founders. Free for a quick chat this week?</td>\n",
       "    </tr>\n",
       "    <tr>\n",
       "      <th id=\"T_fbbb1_level0_row4\" class=\"row_heading level0 row4\" >4</th>\n",
       "      <td id=\"T_fbbb1_row4_col0\" class=\"data row4 col0\" >Arvind V.</td>\n",
       "      <td id=\"T_fbbb1_row4_col1\" class=\"data row4 col1\" >Hi Arvind - saw Fresco recently got into YC. Love to connect with fellow founders - I'm also in SF building in the sales/rev space. Really curious to hear more about the problems you're solving, esp given your interesting leap from HealthTech to starting Fresco.</td>\n",
       "      <td id=\"T_fbbb1_row4_col2\" class=\"data row4 col2\" >Hey Arvind - thanks for connecting! As a fellow YC founder, wanted to say congrats on getting into the F24 batch (super exciting). After diving into what January AI and Fresco are doing in the health space, I think you'd find interesting how we're helping other YC companies streamline their outreach and lead generation. We've built some specific workflows for health tech that are getting solid results. Would love to get your take on this - up for a quick call next week to discuss?</td>\n",
       "    </tr>\n",
       "    <tr>\n",
       "      <th id=\"T_fbbb1_level0_row5\" class=\"row_heading level0 row5\" >5</th>\n",
       "      <td id=\"T_fbbb1_row5_col0\" class=\"data row5 col0\" >Daniel Edrisian</td>\n",
       "      <td id=\"T_fbbb1_row5_col1\" class=\"data row5 col1\" >Hey Daniel - following along your work with Alex since it got into YC this winter! Always cool to meet fellow Bay Area founders, especially someone who's worked at Google and turned down the stability to start their own thing.</td>\n",
       "      <td id=\"T_fbbb1_row5_col2\" class=\"data row5 col2\" >Thanks for connecting Daniel! I noticed Alex got into YC - huge accomplishment. Your background at Google, FB and now building in AI really stands out. We're helping several YC companies automate their LinkedIn outreach and follow-ups (something I learned was crucial from my time at SaveMAPS). Would love to share what's working for other founders and see if it could help accelerate Alex's growth. Have 15 mins this week to chat about your outbound strategy?</td>\n",
       "    </tr>\n",
       "    <tr>\n",
       "      <th id=\"T_fbbb1_level0_row6\" class=\"row_heading level0 row6\" >6</th>\n",
       "      <td id=\"T_fbbb1_row6_col0\" class=\"data row6 col0\" >Shardool Patel</td>\n",
       "      <td id=\"T_fbbb1_row6_col1\" class=\"data row6 col1\" >Hey Shardool - saw Ryvn got into YC F24 batch. Building a company post-Palantir (which I've been curious about) must give you a unique lens for developing tech. Looking forward to following your journey in the latest batch.</td>\n",
       "      <td id=\"T_fbbb1_row6_col2\" class=\"data row6 col2\" >Hey Shardool - congrats on getting into YC F24! Was checking out Ryvn and your background at Palantir - it's impressive how you've gone from working with complex data systems to building your own startup. I'm building Pipeline to help B2B startups scale their outreach more effectively - something I wish I had during my early founder days. Between your Palantir experience and building Ryvn, curious to hear your thoughts on automated sales tools and if you'd be up for a quick chat next week?</td>\n",
       "    </tr>\n",
       "    <tr>\n",
       "      <th id=\"T_fbbb1_level0_row7\" class=\"row_heading level0 row7\" >7</th>\n",
       "      <td id=\"T_fbbb1_row7_col0\" class=\"data row7 col0\" >Philipp Baumanns</td>\n",
       "      <td id=\"T_fbbb1_row7_col1\" class=\"data row7 col1\" >Hey Philipp! Really cool to see another YC founder in SF. Love what you're building at telli - would be great to exchange thoughts on our founder journeys so far (fellow first-time founder here). Small world seeing McKinsey & HSG in your background too.</td>\n",
       "      <td id=\"T_fbbb1_row7_col2\" class=\"data row7 col2\" >Hey Philipp! Since you're building telli and going through YC F24 right now, thought I'd share something that might be useful. We're helping several YC founders streamline their sales outreach (especially on LinkedIn) during the batch - lets them focus more on product/fundraising. Your McKinsey background got me thinking you'd appreciate the data/process side of what we do. Want to hop on a quick call next week? I can share some specific playbooks that worked well for other B2B YC companies.</td>\n",
       "    </tr>\n",
       "    <tr>\n",
       "      <th id=\"T_fbbb1_level0_row8\" class=\"row_heading level0 row8\" >8</th>\n",
       "      <td id=\"T_fbbb1_row8_col0\" class=\"data row8 col0\" >Akhil Gupta</td>\n",
       "      <td id=\"T_fbbb1_row8_col1\" class=\"data row8 col1\" >Hi Akhil - just read about Fresco getting into YC. Would love to learn more about how you're bringing clean energy solutions to the residential market after your work at Lumen Energy. Hoping to connect!</td>\n",
       "      <td id=\"T_fbbb1_row8_col2\" class=\"data row8 col2\" >Hey Akhil! Congrats on getting into YC F24 with Fresco. I run Pipeline, where we help B2B startups scale their outbound. Given your experience at TikTok and now building in cleantech, I'd love to hear about your early-stage sales approach at Fresco. We've helped several YC companies streamline their outreach and lead gen - might have some insights relevant to your current growth phase. Would you be open to a quick call next week? Happy to share what's working well for other founders in your space.</td>\n",
       "    </tr>\n",
       "    <tr>\n",
       "      <th id=\"T_fbbb1_level0_row9\" class=\"row_heading level0 row9\" >9</th>\n",
       "      <td id=\"T_fbbb1_row9_col0\" class=\"data row9 col0\" >Chidi Williams</td>\n",
       "      <td id=\"T_fbbb1_row9_col1\" class=\"data row9 col1\" >Hey Chidi - congrats on getting into YC F24 batch with Rulebase! Really cool to see your journey from Goldman to launching your own startup. Your finance background + tech expertise is an interesting combo.</td>\n",
       "      <td id=\"T_fbbb1_row9_col2\" class=\"data row9 col2\" >Hey Chidi! Noticed you're building something exciting with Rulebase (huge congrats on YC F24 btw). Based on your experience at Goldman, you probably know how critical efficient outreach is. We've built a LinkedIn automation tool that's helping YC founders streamline their B2B sales - everything from finding leads to managing follow-ups. Given your fintech background, I'd love to get your take on some features we're developing specifically for that space. Free for a quick call this week to compare notes?</td>\n",
       "    </tr>\n",
       "  </tbody>\n",
       "</table>\n"
      ]
     },
     "execution_count": 5,
     "metadata": {},
     "output_type": "execute_result"
    }
   ],
   "execution_count": 5
  },
  {
   "metadata": {
    "ExecuteTime": {
     "end_time": "2024-12-24T06:04:50.629537Z",
     "start_time": "2024-12-24T06:04:50.628322Z"
    }
   },
   "cell_type": "code",
   "source": "",
   "id": "502bcebe5415656d",
   "outputs": [],
   "execution_count": 5
  }
 ],
 "metadata": {
  "kernelspec": {
   "display_name": "Python 3",
   "language": "python",
   "name": "python3"
  },
  "language_info": {
   "codemirror_mode": {
    "name": "ipython",
    "version": 2
   },
   "file_extension": ".py",
   "mimetype": "text/x-python",
   "name": "python",
   "nbconvert_exporter": "python",
   "pygments_lexer": "ipython2",
   "version": "2.7.6"
  }
 },
 "nbformat": 4,
 "nbformat_minor": 5
}
