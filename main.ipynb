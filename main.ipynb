{
 "cells": [
  {
   "cell_type": "code",
   "id": "initial_id",
   "metadata": {
    "collapsed": true,
    "ExecuteTime": {
     "end_time": "2024-12-24T05:28:52.520405Z",
     "start_time": "2024-12-24T05:28:52.111947Z"
    }
   },
   "source": [
    "# Import necessary modules\n",
    "import os\n",
    "import pandas as pd\n",
    "from dotenv import load_dotenv\n",
    "from modules.paragraph_generation import generate_paragraph, generate_advertising_paragraph\n",
    "from modules.data_processing import load_and_filter_data, preprocess_columns_simple, enrich_advertiser_data_with_domain\n",
    "from modules.linkedin_requests import initialize_client, generate_linkedin_request, generate_followup_message\n",
    "\n",
    "# Load API key\n",
    "load_dotenv()\n",
    "ANTHROPIC_API_KEY = os.getenv('ANTHROPIC_API_KEY')\n",
    "pd.set_option('display.expand_frame_repr', False)\n"
   ],
   "outputs": [],
   "execution_count": 1
  },
  {
   "metadata": {
    "ExecuteTime": {
     "end_time": "2024-12-24T05:28:54.127577Z",
     "start_time": "2024-12-24T05:28:53.992664Z"
    }
   },
   "cell_type": "code",
   "source": [
    "# Load and preprocess datasets\n",
    "people_path = './data/YC F24 Founder People.csv'\n",
    "personal_data_path = './data/Sudarshan Sridharan People.csv'\n",
    "\n",
    "relevant_columns = [\n",
    "    'full_name', 'title', 'location', 'company', 'company_linkedin',\n",
    "    'company_description', 'sub_title', 'summary', 'current_job_description',\n",
    "    'person_industry', 'skills', 'education', 'work_history', 'company_domain'\n",
    "]\n",
    "\n",
    "people_data = load_and_filter_data(people_path, relevant_columns)\n",
    "people_data = preprocess_columns_simple(people_data)\n",
    "\n",
    "personal_data = load_and_filter_data(personal_data_path, relevant_columns)\n",
    "personal_data = preprocess_columns_simple(personal_data)\n",
    "\n",
    "# Enrich personal data with domain information\n",
    "personal_data = enrich_advertiser_data_with_domain(personal_data)\n",
    "\n",
    "# Generate paragraphs\n",
    "people_data['descriptive_paragraph'] = people_data.apply(generate_paragraph, axis=1)\n",
    "personal_data['advertising_paragraph'] = personal_data.apply(generate_advertising_paragraph, axis=1)\n"
   ],
   "id": "ae2c9af474bcfd2c",
   "outputs": [],
   "execution_count": 3
  },
  {
   "metadata": {
    "ExecuteTime": {
     "end_time": "2024-12-24T05:28:54.587450Z",
     "start_time": "2024-12-24T05:28:54.577609Z"
    }
   },
   "cell_type": "code",
   "source": "personal_data",
   "id": "1ac65d91399a7e5b",
   "outputs": [
    {
     "data": {
      "text/plain": [
       "             full_name    title                                           location   company                               company_linkedin                                company_description      sub_title  summary                            current_job_description                       person_industry     skills           education                                       work_history    company_domain                                        domain_info                              advertising_paragraph\n",
       "0  Sudarshan Sridharan  Founder  San Francisco Bay, San Francisco Bay Area, Uni...  Pipeline  https://www.linkedin.com/company/withpipeline  Get more leads, close more deals. Pipeline set...  CEO, Pipeline      NaN  Pipeline puts LinkedIn prospecting and outreac...  Technology, Information and Internet  Investing  Clemson University  Pipeline, Fion Technologies, SaveMAPS, Second ...  withpipeline.com  Sign Up → Sign Up → NEW Supercharge Your Sales...  Sudarshan Sridharan is the Founder at Pipeline..."
      ],
      "text/html": [
       "<div>\n",
       "<style scoped>\n",
       "    .dataframe tbody tr th:only-of-type {\n",
       "        vertical-align: middle;\n",
       "    }\n",
       "\n",
       "    .dataframe tbody tr th {\n",
       "        vertical-align: top;\n",
       "    }\n",
       "\n",
       "    .dataframe thead th {\n",
       "        text-align: right;\n",
       "    }\n",
       "</style>\n",
       "<table border=\"1\" class=\"dataframe\">\n",
       "  <thead>\n",
       "    <tr style=\"text-align: right;\">\n",
       "      <th></th>\n",
       "      <th>full_name</th>\n",
       "      <th>title</th>\n",
       "      <th>location</th>\n",
       "      <th>company</th>\n",
       "      <th>company_linkedin</th>\n",
       "      <th>company_description</th>\n",
       "      <th>sub_title</th>\n",
       "      <th>summary</th>\n",
       "      <th>current_job_description</th>\n",
       "      <th>person_industry</th>\n",
       "      <th>skills</th>\n",
       "      <th>education</th>\n",
       "      <th>work_history</th>\n",
       "      <th>company_domain</th>\n",
       "      <th>domain_info</th>\n",
       "      <th>advertising_paragraph</th>\n",
       "    </tr>\n",
       "  </thead>\n",
       "  <tbody>\n",
       "    <tr>\n",
       "      <th>0</th>\n",
       "      <td>Sudarshan Sridharan</td>\n",
       "      <td>Founder</td>\n",
       "      <td>San Francisco Bay, San Francisco Bay Area, Uni...</td>\n",
       "      <td>Pipeline</td>\n",
       "      <td>https://www.linkedin.com/company/withpipeline</td>\n",
       "      <td>Get more leads, close more deals. Pipeline set...</td>\n",
       "      <td>CEO, Pipeline</td>\n",
       "      <td>NaN</td>\n",
       "      <td>Pipeline puts LinkedIn prospecting and outreac...</td>\n",
       "      <td>Technology, Information and Internet</td>\n",
       "      <td>Investing</td>\n",
       "      <td>Clemson University</td>\n",
       "      <td>Pipeline, Fion Technologies, SaveMAPS, Second ...</td>\n",
       "      <td>withpipeline.com</td>\n",
       "      <td>Sign Up → Sign Up → NEW Supercharge Your Sales...</td>\n",
       "      <td>Sudarshan Sridharan is the Founder at Pipeline...</td>\n",
       "    </tr>\n",
       "  </tbody>\n",
       "</table>\n",
       "</div>"
      ]
     },
     "execution_count": 4,
     "metadata": {},
     "output_type": "execute_result"
    }
   ],
   "execution_count": 4
  },
  {
   "metadata": {
    "ExecuteTime": {
     "end_time": "2024-12-24T05:29:51.336732Z",
     "start_time": "2024-12-24T05:28:55.954530Z"
    }
   },
   "cell_type": "code",
   "source": [
    "# Load the system prompt from a .txt file\n",
    "with open('system_prompt.txt', 'r') as file:\n",
    "    system_prompt = file.read()\n",
    "\n",
    "# Initialize Anthropic client\n",
    "client = initialize_client(ANTHROPIC_API_KEY)\n",
    "\n",
    "# Use the first advertiser's data for testing\n",
    "advertising_paragraph = personal_data['advertising_paragraph'].iloc[0]\n",
    "domain_info = personal_data['domain_info'].iloc[0]\n",
    "\n",
    "# Process only the first 10 entries\n",
    "max_entries = 10\n",
    "\n",
    "results = []\n",
    "\n",
    "print(\"Generated LinkedIn Requests and Follow-Up Messages:\\n\" + \"=\" * 50)\n",
    "\n",
    "for idx, row in people_data.iterrows():\n",
    "    if idx >= max_entries:\n",
    "        break\n",
    "    \n",
    "    descriptive_paragraph = row['descriptive_paragraph']\n",
    "    \n",
    "    # Generate the connection request\n",
    "    connect_note = generate_linkedin_request(client, advertising_paragraph, descriptive_paragraph, domain_info, system_prompt)\n",
    "    \n",
    "    # Generate the follow-up message\n",
    "    follow_up_message = generate_followup_message(client, advertising_paragraph, descriptive_paragraph, domain_info, system_prompt)\n",
    "    \n",
    "    # Collect results\n",
    "    results.append({\n",
    "        'Name': row['full_name'],\n",
    "        'Connect Note': connect_note,\n",
    "        'Follow-Up Message': follow_up_message\n",
    "    })\n",
    "\n",
    "# Create DataFrame from results\n",
    "output_df = pd.DataFrame(results)\n",
    "\n",
    "# Display the DataFrame\n",
    "output_df.style.set_properties(**{'text-align': 'left'})\n",
    "\n",
    "# Save the DataFrame to a CSV for reference\n",
    "output_df.to_csv('linkedin_messages.csv', index=False)"
   ],
   "id": "759b8896e2d3fe83",
   "outputs": [
    {
     "name": "stdout",
     "output_type": "stream",
     "text": [
      "Generated LinkedIn Requests and Follow-Up Messages:\n",
      "==================================================\n"
     ]
    }
   ],
   "execution_count": 5
  },
  {
   "metadata": {
    "ExecuteTime": {
     "end_time": "2024-12-24T05:29:51.340815Z",
     "start_time": "2024-12-24T05:29:51.337662Z"
    }
   },
   "cell_type": "code",
   "source": "output_df.style",
   "id": "5f523fd094ec3fe3",
   "outputs": [
    {
     "data": {
      "text/plain": [
       "<pandas.io.formats.style.Styler at 0x139b17fe0>"
      ],
      "text/html": [
       "<style type=\"text/css\">\n",
       "</style>\n",
       "<table id=\"T_1de3e\">\n",
       "  <thead>\n",
       "    <tr>\n",
       "      <th class=\"blank level0\" >&nbsp;</th>\n",
       "      <th id=\"T_1de3e_level0_col0\" class=\"col_heading level0 col0\" >Name</th>\n",
       "      <th id=\"T_1de3e_level0_col1\" class=\"col_heading level0 col1\" >Connect Note</th>\n",
       "      <th id=\"T_1de3e_level0_col2\" class=\"col_heading level0 col2\" >Follow-Up Message</th>\n",
       "    </tr>\n",
       "  </thead>\n",
       "  <tbody>\n",
       "    <tr>\n",
       "      <th id=\"T_1de3e_level0_row0\" class=\"row_heading level0 row0\" >0</th>\n",
       "      <td id=\"T_1de3e_row0_col0\" class=\"data row0 col0\" >Edward Aryee</td>\n",
       "      <td id=\"T_1de3e_row0_col1\" class=\"data row0 col1\" >Hey Edward, saw you're building SRE.ai - very timely given all the DevOps scaling challenges companies face today. Really cool to see your path from Google to founding a YC company. Would love to connect and learn more about the platform.</td>\n",
       "      <td id=\"T_1de3e_row0_col2\" class=\"data row0 col2\" >Hey Edward, looks like we're both building tools to help other startups scale more efficiently - you with SRE.ai's platform and me with sales automation. Your background at Google and Microsoft must give you some great insights into systems at scale. I've been working with several YC companies to help them set up their outbound sales processes, and I'd love to learn more about what you're building. Would you be open to a quick call next week to exchange notes? I'm particularly curious about how you're approaching the infrastructure challenges for early-stage companies.</td>\n",
       "    </tr>\n",
       "    <tr>\n",
       "      <th id=\"T_1de3e_level0_row1\" class=\"row_heading level0 row1\" >1</th>\n",
       "      <td id=\"T_1de3e_row1_col0\" class=\"data row1 col0\" >Victor Cheng</td>\n",
       "      <td id=\"T_1de3e_row1_col1\" class=\"data row1 col1\" >Hey Victor - saw you're building vly.ai at YC. Really interested in your journey from robotics (Spartabots) to AI/ML. Your work with Hatch Coding is super cool too. Would love to connect and learn more about what you're working on with vly.</td>\n",
       "      <td id=\"T_1de3e_row1_col2\" class=\"data row1 col2\" >Hey Victor - thanks for connecting! Noticed you're on the YC F24 batch with vly.ai - super exciting. As a fellow founder working with early-stage startups, I'd love to hear about your experience building and scaling vly, especially with your background at Autodesk and running Quantum Labs. I run Pipeline, where we help B2B startups optimize their outbound sales process. Would be great to hop on a quick call next week to exchange startup experiences and maybe explore if our sales automation could help accelerate vly's growth. What's your schedule looking like Tuesday or Wednesday?</td>\n",
       "    </tr>\n",
       "    <tr>\n",
       "      <th id=\"T_1de3e_level0_row2\" class=\"row_heading level0 row2\" >2</th>\n",
       "      <td id=\"T_1de3e_row2_col0\" class=\"data row2 col0\" >Daryl Budiman</td>\n",
       "      <td id=\"T_1de3e_row2_col1\" class=\"data row2 col1\" >Hi Daryl - noticed you're part of YC F24 with Andoria! Been following the Marriage Pact story from Stanford days - super creative approach to matchmaking. Would love to learn more about what you're building now.</td>\n",
       "      <td id=\"T_1de3e_row2_col2\" class=\"data row2 col2\" >Hey Daryl - really enjoyed seeing the press about Andoria making it into YC's latest batch. The transition from Amazon & Evernote to building your own startup must be an interesting journey. At Pipeline, we help YC companies streamline their outbound sales - I'd love to learn more about your growth plans and share how we've helped other batch companies set up their sales processes. Would you be open to a quick chat next week?</td>\n",
       "    </tr>\n",
       "    <tr>\n",
       "      <th id=\"T_1de3e_level0_row3\" class=\"row_heading level0 row3\" >3</th>\n",
       "      <td id=\"T_1de3e_row3_col0\" class=\"data row3 col0\" >Finn Mallery</td>\n",
       "      <td id=\"T_1de3e_row3_col1\" class=\"data row3 col1\" >Hey Finn - saw you're building Origami Agents! Curious about your transition from Fizz to founding your own YC company. I'm also building in the B2B space and would love to connect and share learnings from our founder journeys.</td>\n",
       "      <td id=\"T_1de3e_row3_col2\" class=\"data row3 col2\" >Thanks for connecting Finn! Been following Origami's progress - super interesting work you're doing with AI agents. I run Pipeline, where we help early-stage B2B startups scale their outbound sales. Given you're building in the AI space, curious to hear your thoughts on sales automation and how you're thinking about go-to-market. Would love to jump on a quick call next week if you're open to it - there might be some interesting ways we could help as you scale Origami. When works best for you?</td>\n",
       "    </tr>\n",
       "    <tr>\n",
       "      <th id=\"T_1de3e_level0_row4\" class=\"row_heading level0 row4\" >4</th>\n",
       "      <td id=\"T_1de3e_row4_col0\" class=\"data row4 col0\" >Arvind V.</td>\n",
       "      <td id=\"T_1de3e_row4_col1\" class=\"data row4 col1\" >Hey Arvind! Just saw Fresco is joining YC F24 - super interested in the work you've done from NASA to healthtech at January AI. Your shift into building with AI at Fresco has me curious. I'm also building in the SF startup space.</td>\n",
       "      <td id=\"T_1de3e_row4_col2\" class=\"data row4 col2\" >Hey Arvind, thanks for connecting! I saw you're building something exciting at Fresco with YC. As a founder who's worked with early-stage startups, I've seen how critical customer acquisition is in the early days. We've built some interesting tools at Pipeline that help YC companies automate their outbound sales process - might be relevant as you scale. Would love to hop on a quick call next week to share some insights from working with other YC founders. What's your schedule looking like?</td>\n",
       "    </tr>\n",
       "    <tr>\n",
       "      <th id=\"T_1de3e_level0_row5\" class=\"row_heading level0 row5\" >5</th>\n",
       "      <td id=\"T_1de3e_row5_col0\" class=\"data row5 col0\" >Daniel Edrisian</td>\n",
       "      <td id=\"T_1de3e_row5_col1\" class=\"data row5 col1\" >Hey Daniel - super interested in what you're building at Alex. Been following ElevenLabs' work in AI voice tech and saw you were part of the team there. Would love to learn more about your journey from Apple/Google to founding your own YC startup.</td>\n",
       "      <td id=\"T_1de3e_row5_col2\" class=\"data row5 col2\" >Thanks for connecting Daniel! Love what you're building with Alex - especially given your background at ElevenLabs and Google. I run Pipeline where we help YC founders automate their sales outreach and qualification. Would love to share how other YC companies are using us to scale their lead gen. I'm usually free Tuesdays/Thursdays - does either day work for a quick call next week? Also curious to hear more about your YC experience so far (congrats on F24 btw!).</td>\n",
       "    </tr>\n",
       "    <tr>\n",
       "      <th id=\"T_1de3e_level0_row6\" class=\"row_heading level0 row6\" >6</th>\n",
       "      <td id=\"T_1de3e_row6_col0\" class=\"data row6 col0\" >Shardool Patel</td>\n",
       "      <td id=\"T_1de3e_row6_col1\" class=\"data row6 col1\" >Hey Shardool! Saw you're building with YC W24 batch. Having worked at Palantir previously must give you unique insights for Ryvn. Would love to learn more about what you're up to these days - your experience across data & manufacturing is super interesting.</td>\n",
       "      <td id=\"T_1de3e_row6_col2\" class=\"data row6 col2\" >Hey Shardool - glad we connected! I noticed you're building something exciting with Ryvn in YC's newest batch. Having worked with several early-stage founders, I've seen how critical it is to have a strong outbound motion while building. We've helped other YC companies automate their LinkedIn outreach and CRM workflows while they focus on product. Would love to chat about your outbound strategy and share what's working for other founders. Any chance you're free for a quick call next week?</td>\n",
       "    </tr>\n",
       "    <tr>\n",
       "      <th id=\"T_1de3e_level0_row7\" class=\"row_heading level0 row7\" >7</th>\n",
       "      <td id=\"T_1de3e_row7_col0\" class=\"data row7 col0\" >Philipp Baumanns</td>\n",
       "      <td id=\"T_1de3e_row7_col1\" class=\"data row7 col1\" >Hi Philipp! Really interested in telli's acceptance into YC F24 and your experience with clean energy at Enpal. Fellow founder here, would love to connect and hear what you're building. Your background in energy and consulting is super interesting.</td>\n",
       "      <td id=\"T_1de3e_row7_col2\" class=\"data row7 col2\" >Hey Philipp, was great connecting! As a fellow YC founder building in SF (congrats on F24 btw), I'd love to chat about how you're thinking about outbound for telli. Having worked with several early-stage YC companies on their sales automation, I might have some useful insights on what's working well right now. Would you be open to a quick 15-min call next week to explore if there's a fit? I'm pretty flexible on timing - let me know what works best for you.</td>\n",
       "    </tr>\n",
       "    <tr>\n",
       "      <th id=\"T_1de3e_level0_row8\" class=\"row_heading level0 row8\" >8</th>\n",
       "      <td id=\"T_1de3e_row8_col0\" class=\"data row8 col0\" >Akhil Gupta</td>\n",
       "      <td id=\"T_1de3e_row8_col1\" class=\"data row8 col1\" >Hey Akhil - saw you're building Fresco on YC's latest batch. Your work at Lumen Energy + now Fresco shows a clear passion for climate tech solutions. I'm also a founder working on helping early-stage companies scale. Would love to connect!</td>\n",
       "      <td id=\"T_1de3e_row8_col2\" class=\"data row8 col2\" >Hey Akhil! I see you've just launched Fresco through YC - great timing as the climate tech space is heating up. Your time at Lumen Energy must give you some valuable insights there. I run Pipeline, where we help early-stage startups build out their sales processes. Given you're likely focused on product and development right now, I'd love to share how other YC founders have handled early sales without it becoming a time sink. Would you be open to a quick call this week?</td>\n",
       "    </tr>\n",
       "    <tr>\n",
       "      <th id=\"T_1de3e_level0_row9\" class=\"row_heading level0 row9\" >9</th>\n",
       "      <td id=\"T_1de3e_row9_col0\" class=\"data row9 col0\" >Chidi Williams</td>\n",
       "      <td id=\"T_1de3e_row9_col1\" class=\"data row9 col1\" >Hey Chidi! Saw you're building Rulebase - super curious about your journey from Goldman to founding a YC company. Your experience in both fintech and pharma is quite unique. Would love to connect and hear more about what you're working on.</td>\n",
       "      <td id=\"T_1de3e_row9_col2\" class=\"data row9 col2\" >Hey Chidi - congrats on getting into YC F24 with Rulebase! As someone who's also building in the B2B space, I've seen how critical efficient sales outreach is for early-stage companies. We've developed some interesting automation tools at Pipeline that many YC founders are using to scale their outbound efforts while in build mode. Would love to show you what we've built and get your thoughts, especially given your background at Goldman. Any chance you have 15 mins next week for a quick chat?</td>\n",
       "    </tr>\n",
       "  </tbody>\n",
       "</table>\n"
      ]
     },
     "execution_count": 6,
     "metadata": {},
     "output_type": "execute_result"
    }
   ],
   "execution_count": 6
  },
  {
   "metadata": {
    "ExecuteTime": {
     "end_time": "2024-12-24T05:20:24.539373Z",
     "start_time": "2024-12-24T05:20:24.538009Z"
    }
   },
   "cell_type": "code",
   "source": "",
   "id": "502bcebe5415656d",
   "outputs": [],
   "execution_count": 5
  }
 ],
 "metadata": {
  "kernelspec": {
   "display_name": "Python 3",
   "language": "python",
   "name": "python3"
  },
  "language_info": {
   "codemirror_mode": {
    "name": "ipython",
    "version": 2
   },
   "file_extension": ".py",
   "mimetype": "text/x-python",
   "name": "python",
   "nbconvert_exporter": "python",
   "pygments_lexer": "ipython2",
   "version": "2.7.6"
  }
 },
 "nbformat": 4,
 "nbformat_minor": 5
}
