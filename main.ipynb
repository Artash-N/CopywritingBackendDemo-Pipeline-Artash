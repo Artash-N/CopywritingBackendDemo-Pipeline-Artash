{
 "cells": [
  {
   "cell_type": "code",
   "id": "initial_id",
   "metadata": {
    "collapsed": true,
    "ExecuteTime": {
     "end_time": "2024-12-22T06:19:37.453921Z",
     "start_time": "2024-12-22T06:19:37.120166Z"
    }
   },
   "source": [
    "# Import necessary modules\n",
    "import os\n",
    "\n",
    "import pandas as pd\n",
    "from dotenv import load_dotenv\n",
    "from modules.paragraph_generation import generate_paragraph, generate_advertising_paragraph\n",
    "from modules.data_processing import load_and_filter_data, preprocess_columns_simple, enrich_advertiser_data_with_domain\n",
    "from modules.linkedin_requests import initialize_client, generate_linkedin_request\n",
    "# Load API key\n",
    "load_dotenv()\n",
    "ANTHROPIC_API_KEY = os.getenv('ANTHROPIC_API_KEY')"
   ],
   "outputs": [],
   "execution_count": 1
  },
  {
   "metadata": {
    "ExecuteTime": {
     "end_time": "2024-12-22T06:19:38.293173Z",
     "start_time": "2024-12-22T06:19:38.132696Z"
    }
   },
   "cell_type": "code",
   "source": [
    "\n",
    "# Load and preprocess datasets\n",
    "people_path = './data/YC F24 Founder People.csv'\n",
    "personal_data_path = './data/Sudarshan Sridharan People.csv'\n",
    "\n",
    "relevant_columns = [\n",
    "    'full_name', 'title', 'location', 'company', 'company_linkedin',\n",
    "    'company_description', 'sub_title', 'summary', 'current_job_description',\n",
    "    'person_industry', 'skills', 'education', 'work_history', 'company_domain'\n",
    "]\n",
    "\n",
    "people_data = load_and_filter_data(people_path, relevant_columns)\n",
    "people_data = preprocess_columns_simple(people_data)\n",
    "\n",
    "personal_data = load_and_filter_data(personal_data_path, relevant_columns)\n",
    "personal_data = preprocess_columns_simple(personal_data)\n",
    "# Enrich personal data with domain information\n",
    "personal_data = enrich_advertiser_data_with_domain(personal_data)\n",
    "# Generate paragraphs\n",
    "people_data['descriptive_paragraph'] = people_data.apply(generate_paragraph, axis=1)\n",
    "personal_data['advertising_paragraph'] = personal_data.apply(generate_advertising_paragraph, axis=1)"
   ],
   "id": "ae2c9af474bcfd2c",
   "outputs": [
    {
     "name": "stdout",
     "output_type": "stream",
     "text": [
      "0    withpipeline.com\n",
      "Name: company_domain, dtype: object\n"
     ]
    }
   ],
   "execution_count": 2
  },
  {
   "metadata": {
    "ExecuteTime": {
     "end_time": "2024-12-22T06:28:33.329915Z",
     "start_time": "2024-12-22T06:28:05.473364Z"
    }
   },
   "cell_type": "code",
   "source": [
    "# Load the system prompt from a .txt file\n",
    "with open('system_prompt.txt', 'r') as file:\n",
    "    system_prompt = file.read()\n",
    "\n",
    "# Initialize Anthropic client\n",
    "client = initialize_client(ANTHROPIC_API_KEY)\n",
    "\n",
    "# Use the first advertiser's data for testing\n",
    "advertising_paragraph = personal_data['advertising_paragraph'].iloc[0]\n",
    "domain_info = personal_data['domain_info'].iloc[0]\n",
    "\n",
    "# Process only the first 10 entries\n",
    "max_entries = 10\n",
    "\n",
    "print(\"Generated LinkedIn Requests:\\n\" + \"=\" * 30)\n",
    "\n",
    "for idx, row in people_data.iterrows():\n",
    "    if idx >= max_entries:\n",
    "        break\n",
    "    \n",
    "    descriptive_paragraph = row['descriptive_paragraph']\n",
    "    linkedin_request = generate_linkedin_request(client, advertising_paragraph, descriptive_paragraph, domain_info, system_prompt)\n",
    "    \n",
    "    # Format the output nicely\n",
    "    from_name = \"Advertiser Name\"  # Replace with the actual advertiser's name if available\n",
    "    to_name = row['full_name']  # Assuming 'full_name' column exists for the person being contacted\n",
    "    \n",
    "    print(f\"From: {from_name}\")\n",
    "    print(f\"To: {to_name}\")\n",
    "    print(f\"Message: {linkedin_request}\\n\")\n",
    "    print(\"-\" * 30)\n"
   ],
   "id": "759b8896e2d3fe83",
   "outputs": [
    {
     "name": "stdout",
     "output_type": "stream",
     "text": [
      "Generated LinkedIn Requests:\n",
      "==============================\n",
      "From: Advertiser Name\n",
      "To: Edward Aryee\n",
      "Message: Hi Edward! Fellow startup founder here - noticed you're building SRE.ai in the YC F24 batch. I'm working on Pipeline to help founders like us streamline outreach and networking. Would love to connect and share insights about the B2B SaaS space.\n",
      "\n",
      "------------------------------\n",
      "From: Advertiser Name\n",
      "To: Victor Cheng\n",
      "Message: Hi Victor! Fellow founder here - noticed you're building vly.ai and going through YC F24. I'm working on Pipeline, a tool that helps startups automate their outreach. Given your technical background, would love to connect and potentially share insights about scaling early-stage companies.\n",
      "\n",
      "------------------------------\n",
      "From: Advertiser Name\n",
      "To: Daryl Budiman\n",
      "Message: Hi Daryl! Fellow startup founder here. Noticed you're building Andoria (YC F24) - impressive tech background from Stanford! I'm working on LinkedIn automation tools that could streamline customer engagement for YC companies. Would love to connect and share insights on scaling early-stage startups.\n",
      "\n",
      "------------------------------\n",
      "From: Advertiser Name\n",
      "To: Finn Mallery\n",
      "Message: Hi Finn! Fellow startup founder here - noticed you're building Origami Agents through YC. I'm working on Pipeline, automating LinkedIn outreach and CRM workflows. Would love to connect and potentially share insights on building tools that help businesses scale. \n",
      "\n",
      "(This note works because: it's personal (mentions YC and their startup), establishes common ground (both founders), suggests mutual benefit (sharing insights), and subtly hints at potential value (automation tools) without\n",
      "\n",
      "------------------------------\n",
      "From: Advertiser Name\n",
      "To: Arvind V.\n",
      "Message: Hi Arvind! As a fellow startup founder with experience in early-stage ventures, I noticed your work with Fresco (YC F24). I'm building Pipeline to help founders like us streamline B2B connections. Would love to exchange insights about scaling and automation in the YC ecosystem.\n",
      "\n",
      "------------------------------\n",
      "From: Advertiser Name\n",
      "To: Daniel Edrisian\n",
      "Message: Hi Daniel! Fellow founder here - noticed you're building Alex (YC F24). Your experience at tech giants like Google and Facebook caught my eye. I'm working on Pipeline, helping founders automate their LinkedIn outreach. Would love to connect and maybe share some growth insights!\n",
      "\n",
      "------------------------------\n",
      "From: Advertiser Name\n",
      "To: Shardool Patel\n",
      "Message: Hi Shardool! Fellow tech founder here - noticed you're building Ryvn (congrats on YC F24!). I'm working on automating LinkedIn workflows and would love to exchange notes on developer tools and scaling challenges. Your background in ML and pipeline development is super relevant.\n",
      "\n",
      "------------------------------\n",
      "From: Advertiser Name\n",
      "To: Philipp Baumanns\n",
      "Message: Hi Philipp! As a fellow startup founder, I noticed your work with telli (YC F24). I'm building Pipeline to help founders like us streamline outreach and networking. Would love to connect and share experiences from our entrepreneurial journeys.\n",
      "\n",
      "(This note is personal, relevant to both parties, mentions their shared founder status, and subtly introduces Pipeline's value proposition without being too sales-focused. It stays under 300 characters while maintaining a natural, convers\n",
      "\n",
      "------------------------------\n",
      "From: Advertiser Name\n",
      "To: Akhil Gupta\n",
      "Message: Hi Akhil! Fellow startup founder here - noticed you're building Fresco (congrats on YC F24!). I'm working on Pipeline, helping founders automate their LinkedIn outreach. Given your technical background and startup experience, would love to connect and potentially share insights.\n",
      "\n",
      "------------------------------\n",
      "From: Advertiser Name\n",
      "To: Chidi Williams\n",
      "Message: Hi Chidi! As a fellow founder with experience in automation tech, I noticed your work with Rulebase. Your background in Goldman Sachs and technical expertise caught my eye. I'm building tools to streamline sales workflows - would love to exchange insights on automation and YC experiences.\n",
      "\n",
      "------------------------------\n"
     ]
    }
   ],
   "execution_count": 10
  },
  {
   "metadata": {},
   "cell_type": "code",
   "outputs": [],
   "execution_count": null,
   "source": "",
   "id": "d8e9127f958daaf9"
  }
 ],
 "metadata": {
  "kernelspec": {
   "display_name": "Python 3",
   "language": "python",
   "name": "python3"
  },
  "language_info": {
   "codemirror_mode": {
    "name": "ipython",
    "version": 2
   },
   "file_extension": ".py",
   "mimetype": "text/x-python",
   "name": "python",
   "nbconvert_exporter": "python",
   "pygments_lexer": "ipython2",
   "version": "2.7.6"
  }
 },
 "nbformat": 4,
 "nbformat_minor": 5
}
