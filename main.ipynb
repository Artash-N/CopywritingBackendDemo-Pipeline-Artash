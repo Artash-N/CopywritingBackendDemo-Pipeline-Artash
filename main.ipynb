{
 "cells": [
  {
   "cell_type": "code",
   "id": "initial_id",
   "metadata": {
    "collapsed": true,
    "ExecuteTime": {
     "end_time": "2024-12-24T16:29:01.699407Z",
     "start_time": "2024-12-24T16:29:01.282455Z"
    }
   },
   "source": [
    "# Import necessary modules\n",
    "import os\n",
    "import pandas as pd\n",
    "from dotenv import load_dotenv\n",
    "from modules.paragraph_generation import generate_paragraph, generate_advertising_paragraph\n",
    "from modules.data_processing import load_and_filter_data, preprocess_columns_simple, enrich_advertiser_data_with_domain\n",
    "from modules.linkedin_requests import initialize_client, generate_linkedin_request, generate_followup_message\n",
    "\n",
    "# Load API key\n",
    "load_dotenv()\n",
    "ANTHROPIC_API_KEY = os.getenv('ANTHROPIC_API_KEY')\n",
    "pd.set_option('display.expand_frame_repr', False)\n"
   ],
   "outputs": [],
   "execution_count": 1
  },
  {
   "metadata": {
    "ExecuteTime": {
     "end_time": "2024-12-24T16:29:02.026976Z",
     "start_time": "2024-12-24T16:29:01.700323Z"
    }
   },
   "cell_type": "code",
   "source": [
    "# Load and preprocess datasets\n",
    "people_path = './data/YC F24 Founder People.csv'\n",
    "personal_data_path = './data/Sudarshan Sridharan People.csv'\n",
    "\n",
    "relevant_columns = [\n",
    "    'full_name', 'title', 'location', 'company', 'company_linkedin',\n",
    "    'company_description', 'sub_title', 'summary', 'current_job_description',\n",
    "    'person_industry', 'skills', 'education', 'work_history', 'company_domain'\n",
    "]\n",
    "\n",
    "people_data = load_and_filter_data(people_path, relevant_columns)\n",
    "people_data = preprocess_columns_simple(people_data)\n",
    "\n",
    "personal_data = load_and_filter_data(personal_data_path, relevant_columns)\n",
    "personal_data = preprocess_columns_simple(personal_data)\n",
    "\n",
    "# Enrich personal data with domain information\n",
    "personal_data = enrich_advertiser_data_with_domain(personal_data)\n",
    "\n",
    "# Generate paragraphs\n",
    "people_data['descriptive_paragraph'] = people_data.apply(generate_paragraph, axis=1)\n",
    "personal_data['advertising_paragraph'] = personal_data.apply(generate_advertising_paragraph, axis=1)\n"
   ],
   "id": "ae2c9af474bcfd2c",
   "outputs": [],
   "execution_count": 2
  },
  {
   "metadata": {
    "ExecuteTime": {
     "end_time": "2024-12-24T16:29:02.036079Z",
     "start_time": "2024-12-24T16:29:02.027735Z"
    }
   },
   "cell_type": "code",
   "source": "personal_data",
   "id": "1ac65d91399a7e5b",
   "outputs": [
    {
     "data": {
      "text/plain": [
       "             full_name    title                                           location   company                               company_linkedin                                company_description      sub_title  summary                            current_job_description                       person_industry     skills           education                                       work_history    company_domain                                        domain_info                              advertising_paragraph\n",
       "0  Sudarshan Sridharan  Founder  San Francisco Bay, San Francisco Bay Area, Uni...  Pipeline  https://www.linkedin.com/company/withpipeline  Get more leads, close more deals. Pipeline set...  CEO, Pipeline      NaN  Pipeline puts LinkedIn prospecting and outreac...  Technology, Information and Internet  Investing  Clemson University  Pipeline, Fion Technologies, SaveMAPS, Second ...  withpipeline.com  Sign Up → Sign Up → NEW Supercharge Your Sales...  Sudarshan Sridharan is the Founder at Pipeline..."
      ],
      "text/html": [
       "<div>\n",
       "<style scoped>\n",
       "    .dataframe tbody tr th:only-of-type {\n",
       "        vertical-align: middle;\n",
       "    }\n",
       "\n",
       "    .dataframe tbody tr th {\n",
       "        vertical-align: top;\n",
       "    }\n",
       "\n",
       "    .dataframe thead th {\n",
       "        text-align: right;\n",
       "    }\n",
       "</style>\n",
       "<table border=\"1\" class=\"dataframe\">\n",
       "  <thead>\n",
       "    <tr style=\"text-align: right;\">\n",
       "      <th></th>\n",
       "      <th>full_name</th>\n",
       "      <th>title</th>\n",
       "      <th>location</th>\n",
       "      <th>company</th>\n",
       "      <th>company_linkedin</th>\n",
       "      <th>company_description</th>\n",
       "      <th>sub_title</th>\n",
       "      <th>summary</th>\n",
       "      <th>current_job_description</th>\n",
       "      <th>person_industry</th>\n",
       "      <th>skills</th>\n",
       "      <th>education</th>\n",
       "      <th>work_history</th>\n",
       "      <th>company_domain</th>\n",
       "      <th>domain_info</th>\n",
       "      <th>advertising_paragraph</th>\n",
       "    </tr>\n",
       "  </thead>\n",
       "  <tbody>\n",
       "    <tr>\n",
       "      <th>0</th>\n",
       "      <td>Sudarshan Sridharan</td>\n",
       "      <td>Founder</td>\n",
       "      <td>San Francisco Bay, San Francisco Bay Area, Uni...</td>\n",
       "      <td>Pipeline</td>\n",
       "      <td>https://www.linkedin.com/company/withpipeline</td>\n",
       "      <td>Get more leads, close more deals. Pipeline set...</td>\n",
       "      <td>CEO, Pipeline</td>\n",
       "      <td>NaN</td>\n",
       "      <td>Pipeline puts LinkedIn prospecting and outreac...</td>\n",
       "      <td>Technology, Information and Internet</td>\n",
       "      <td>Investing</td>\n",
       "      <td>Clemson University</td>\n",
       "      <td>Pipeline, Fion Technologies, SaveMAPS, Second ...</td>\n",
       "      <td>withpipeline.com</td>\n",
       "      <td>Sign Up → Sign Up → NEW Supercharge Your Sales...</td>\n",
       "      <td>Sudarshan Sridharan is the Founder at Pipeline...</td>\n",
       "    </tr>\n",
       "  </tbody>\n",
       "</table>\n",
       "</div>"
      ]
     },
     "execution_count": 3,
     "metadata": {},
     "output_type": "execute_result"
    }
   ],
   "execution_count": 3
  },
  {
   "metadata": {
    "ExecuteTime": {
     "end_time": "2024-12-24T16:30:44.656982Z",
     "start_time": "2024-12-24T16:29:02.036795Z"
    }
   },
   "cell_type": "code",
   "source": [
    "# Load the system prompt from a .txt file\n",
    "with open('system_prompt.txt', 'r') as file:\n",
    "    system_prompt = file.read()\n",
    "\n",
    "# Initialize Anthropic client\n",
    "client = initialize_client(ANTHROPIC_API_KEY)\n",
    "\n",
    "# Use the first advertiser's data for testing\n",
    "advertising_paragraph = personal_data['advertising_paragraph'].iloc[0]\n",
    "domain_info = personal_data['domain_info'].iloc[0]\n",
    "\n",
    "# Process only the first 10 entries\n",
    "max_entries = 12\n",
    "\n",
    "results = []\n",
    "\n",
    "print(\"Generated LinkedIn Requests and Follow-Up Messages:\\n\" + \"=\" * 50)\n",
    "\n",
    "for idx, row in people_data.iterrows():\n",
    "    if idx >= max_entries:\n",
    "        break\n",
    "    \n",
    "    descriptive_paragraph = row['descriptive_paragraph']\n",
    "    \n",
    "    # Generate the connection request\n",
    "    connect_note = generate_linkedin_request(client, advertising_paragraph, descriptive_paragraph, domain_info, system_prompt)\n",
    "    \n",
    "    # Generate the follow-up message\n",
    "    follow_up_message = generate_followup_message(client, advertising_paragraph, descriptive_paragraph, domain_info, system_prompt)\n",
    "    \n",
    "    # Collect results\n",
    "    results.append({\n",
    "        'Name': row['full_name'],\n",
    "        'Connect Note': connect_note,\n",
    "        'Follow-Up Message': follow_up_message\n",
    "    })\n",
    "\n",
    "# Create DataFrame from results\n",
    "output_df = pd.DataFrame(results)\n",
    "\n",
    "# Display the DataFrame\n",
    "output_df.style.set_properties(**{'text-align': 'left'})\n",
    "\n",
    "# Save the DataFrame to a CSV for reference\n",
    "output_df.to_csv('linkedin_messages.csv', index=False)"
   ],
   "id": "759b8896e2d3fe83",
   "outputs": [
    {
     "name": "stdout",
     "output_type": "stream",
     "text": [
      "Generated LinkedIn Requests and Follow-Up Messages:\n",
      "==================================================\n"
     ]
    }
   ],
   "execution_count": 4
  },
  {
   "metadata": {
    "ExecuteTime": {
     "end_time": "2024-12-24T16:30:44.661417Z",
     "start_time": "2024-12-24T16:30:44.658248Z"
    }
   },
   "cell_type": "code",
   "source": "output_df.style",
   "id": "5f523fd094ec3fe3",
   "outputs": [
    {
     "data": {
      "text/plain": [
       "<pandas.io.formats.style.Styler at 0x1079e85c0>"
      ],
      "text/html": [
       "<style type=\"text/css\">\n",
       "</style>\n",
       "<table id=\"T_7204b\">\n",
       "  <thead>\n",
       "    <tr>\n",
       "      <th class=\"blank level0\" >&nbsp;</th>\n",
       "      <th id=\"T_7204b_level0_col0\" class=\"col_heading level0 col0\" >Name</th>\n",
       "      <th id=\"T_7204b_level0_col1\" class=\"col_heading level0 col1\" >Connect Note</th>\n",
       "      <th id=\"T_7204b_level0_col2\" class=\"col_heading level0 col2\" >Follow-Up Message</th>\n",
       "    </tr>\n",
       "  </thead>\n",
       "  <tbody>\n",
       "    <tr>\n",
       "      <th id=\"T_7204b_level0_row0\" class=\"row_heading level0 row0\" >0</th>\n",
       "      <td id=\"T_7204b_row0_col0\" class=\"data row0 col0\" >Edward Aryee</td>\n",
       "      <td id=\"T_7204b_row0_col1\" class=\"data row0 col1\" >Hi Edward - I'm Sudarshan, a founder here in SF. Really interested in what you're building at SRE.ai (congrats on YC F24 btw). Your work at Google & Microsoft around SRE must give you unique insights. Would love to hear more about the problem you're tackling.</td>\n",
       "      <td id=\"T_7204b_row0_col2\" class=\"data row0 col2\" >Thanks for connecting Edward! Really cool to see what you're building at SRE.ai (congrats on YC btw). Given your deep experience at Google and Microsoft, you've probably seen firsthand how critical efficient outreach is for B2B growth. We're helping YC startups automate their LinkedIn outreach and CRM workflows to scale faster. Would love to get your technical perspective on our approach, especially given your systems background. Free for a quick call next week?</td>\n",
       "    </tr>\n",
       "    <tr>\n",
       "      <th id=\"T_7204b_level0_row1\" class=\"row_heading level0 row1\" >1</th>\n",
       "      <td id=\"T_7204b_row1_col0\" class=\"data row1 col0\" >Victor Cheng</td>\n",
       "      <td id=\"T_7204b_row1_col1\" class=\"data row1 col1\" >Hey Victor - Sudarshan here, founder at Pipeline. Really intrigued by vly.ai's YC F24 journey. Would love to hear more about how you went from Hatch Coding to building AI tools, and maybe share some founder experiences from the trenches.</td>\n",
       "      <td id=\"T_7204b_row1_col2\" class=\"data row1 col2\" >Thanks for connecting Victor! Saw you're building vly.ai - super exciting to see another founder in the YC F24 batch. We've been helping a few YC companies streamline their outbound sales (one went from 20 to 100 meetings/month). I run Pipeline, and we specialize in setting up and managing the entire sales stack for early-stage B2B startups. Given you're building in the AI space, curious to hear about your outbound strategy and see if we could help accelerate your growth. Free for a quick call this week?</td>\n",
       "    </tr>\n",
       "    <tr>\n",
       "      <th id=\"T_7204b_level0_row2\" class=\"row_heading level0 row2\" >2</th>\n",
       "      <td id=\"T_7204b_row2_col0\" class=\"data row2 col0\" >Daryl Budiman</td>\n",
       "      <td id=\"T_7204b_row2_col1\" class=\"data row2 col1\" >Hi Daryl - I'm Sudarshan, founder at Pipeline in SF. Noticed Andoria is in YC's fresh batch (congrats). Would love to hear about how you transitioned from MultiOn to building Andoria and see where we might help.</td>\n",
       "      <td id=\"T_7204b_row2_col2\" class=\"data row2 col2\" >Thanks for connecting Daryl! Saw you're building something exciting at Andoria through YC - congrats on F24. As a founder who's helped early-stage startups scale their sales, I noticed most YC companies face similar outbound challenges right after Demo Day. We've developed some interesting approaches working with other YC founders to automate the post-Demo Day outreach without losing that personal touch. Would love to share what's worked well and learn more about your plans at Andoria. Free for a quick chat this week?</td>\n",
       "    </tr>\n",
       "    <tr>\n",
       "      <th id=\"T_7204b_level0_row3\" class=\"row_heading level0 row3\" >3</th>\n",
       "      <td id=\"T_7204b_row3_col0\" class=\"data row3 col0\" >Finn Mallery</td>\n",
       "      <td id=\"T_7204b_row3_col1\" class=\"data row3 col1\" >Hey Finn - saw Origami Agents made YC F24 (that's huge). Really curious about your AI agent work coming from Stanford Engineering. Been in B2B sales for years, would love to learn more about what you're building and potentially help scale it.</td>\n",
       "      <td id=\"T_7204b_row3_col2\" class=\"data row3 col2\" >Thanks for connecting Finn! Fellow founder working in AI here. Love what you're building at Origami Agents - YC F24 must be intense right now. Quick context: I run Pipeline, helping B2B startups automate their outbound sales stack. We're working with a few other YC AI companies, and given your focus, thought there might be some interesting ways we could help streamline your team's outbound. Nothing overly salesy, but would love to hear about your current GTM plans and share some learnings from other founders. Free for a quick chat this week?</td>\n",
       "    </tr>\n",
       "    <tr>\n",
       "      <th id=\"T_7204b_level0_row4\" class=\"row_heading level0 row4\" >4</th>\n",
       "      <td id=\"T_7204b_row4_col0\" class=\"data row4 col0\" >Arvind V.</td>\n",
       "      <td id=\"T_7204b_row4_col1\" class=\"data row4 col1\" >Hi Arvind - I'm Sudarshan, founder at Pipeline in SF. Saw Fresco got into YC F24 batch (congrats!). Really curious to hear more about your journey from NASA to healthcare at January AI to now building Fresco. Would love to connect and learn more.</td>\n",
       "      <td id=\"T_7204b_row4_col2\" class=\"data row4 col2\" >Thanks for connecting Arvind! Saw Fresco was accepted into YC F24 - big congrats on that. Given your experience with January AI and building in healthtech, I think you'll find this interesting - we're helping early B2B startups automate their outbound sales so founders can focus on product and fundraising. Would love to learn more about your plans for Fresco's growth and share how other YC founders are scaling their outreach. Free for a quick chat this week?</td>\n",
       "    </tr>\n",
       "    <tr>\n",
       "      <th id=\"T_7204b_level0_row5\" class=\"row_heading level0 row5\" >5</th>\n",
       "      <td id=\"T_7204b_row5_col0\" class=\"data row5 col0\" >Daniel Edrisian</td>\n",
       "      <td id=\"T_7204b_row5_col1\" class=\"data row5 col1\" >Hey Daniel - Sudarshan here. Really digging what you're building at Alex. As someone who's worked with early B2B startups, would love to hear more about your YC journey and what you've learned from your time at ElevenLabs and Google.</td>\n",
       "      <td id=\"T_7204b_row5_col2\" class=\"data row5 col2\" >Thanks for connecting Daniel! Saw you're building Alex (YC F24) - must be exciting being in the current batch. I run Pipeline, where we help early-stage B2B companies like yours scale their outbound sales. Looking at your background with Google, Facebook and now Alex, you've probably experienced firsthand how crucial efficient outreach is. I'd love to learn more about your sales strategy and share how we've helped other YC founders automate their LinkedIn outreach and CRM workflows. Free for a quick chat this week?</td>\n",
       "    </tr>\n",
       "    <tr>\n",
       "      <th id=\"T_7204b_level0_row6\" class=\"row_heading level0 row6\" >6</th>\n",
       "      <td id=\"T_7204b_row6_col0\" class=\"data row6 col0\" >Shardool Patel</td>\n",
       "      <td id=\"T_7204b_row6_col1\" class=\"data row6 col1\" >Hi Shardool - I'm Sudarshan from Pipeline in SF. Great to see another technical founder join YC F24! Would love to learn more about what you're building at Ryvn and share some insights from working with early B2B startups. Let me know if you're open to connecting.</td>\n",
       "      <td id=\"T_7204b_row6_col2\" class=\"data row6 col2\" >Hey Shardool, thanks for connecting. Congrats on being part of YC F24 with Ryvn! As someone who's worked with early-stage B2B startups (and coming from Palantir, you know the B2B landscape well), I thought you might be interested in how we're helping founders automate their sales outreach. We've built a sales stack that handles everything from finding leads to managing follow-ups - basically letting founders focus on building while still growing their pipeline. Would love to show you what we've built and get your technical perspective on it. Free for a quick call this week?</td>\n",
       "    </tr>\n",
       "    <tr>\n",
       "      <th id=\"T_7204b_level0_row7\" class=\"row_heading level0 row7\" >7</th>\n",
       "      <td id=\"T_7204b_row7_col0\" class=\"data row7 col0\" >Philipp Baumanns</td>\n",
       "      <td id=\"T_7204b_row7_col1\" class=\"data row7 col1\" >Hey Philipp - I'm Sud, founder at Pipeline. Would love to hear more about telli, your experience scaling Enpal's growth, and your shift from McKinsey to founding YC companies. Interesting to see another builder in the B2B space.</td>\n",
       "      <td id=\"T_7204b_row7_col2\" class=\"data row7 col2\" >Hey Philipp - funny to see another founder tackling the future of work! Quick q - with your experience at McKinsey and now building telli, curious how you're thinking about outbound sales? We built Pipeline to help YC companies like yours manage the whole outbound stack (finding leads, automated outreach, CRM sync). Would love to share what's working for other YC founders in your stage and learn more about telli's sales motion. Free for a quick call this week?</td>\n",
       "    </tr>\n",
       "    <tr>\n",
       "      <th id=\"T_7204b_level0_row8\" class=\"row_heading level0 row8\" >8</th>\n",
       "      <td id=\"T_7204b_row8_col0\" class=\"data row8 col0\" >Akhil Gupta</td>\n",
       "      <td id=\"T_7204b_row8_col1\" class=\"data row8 col1\" >Hi Akhil - Looking at Fresco and the work you're doing on the YC side. Working with early B2B startups, I've seen the impact clean tech can have (your work at Lumen and Ribbit got me curious). Would love to learn more about what you're building.</td>\n",
       "      <td id=\"T_7204b_row8_col2\" class=\"data row8 col2\" >Thanks for connecting Akhil! Given you're building Fresco and going through YC F24, I thought our sales automation tools could be helpful as you scale. We work with several YC companies to manage their outbound sales, helping them focus on product while we handle the prospecting and lead gen. Would love to share how other early-stage founders are using Pipeline to accelerate their growth. Free for a quick chat this week to explore if it makes sense for Fresco?</td>\n",
       "    </tr>\n",
       "    <tr>\n",
       "      <th id=\"T_7204b_level0_row9\" class=\"row_heading level0 row9\" >9</th>\n",
       "      <td id=\"T_7204b_row9_col0\" class=\"data row9 col0\" >Chidi Williams</td>\n",
       "      <td id=\"T_7204b_row9_col1\" class=\"data row9 col1\" >Hi Chidi - Sudarshan here, I've been following your journey from Goldman to YC F24 with Rulebase (congrats on getting in btw). Your experience across fintech and pharma at SKG is really unique. Would love to learn more about what you're building.</td>\n",
       "      <td id=\"T_7204b_row9_col2\" class=\"data row9 col2\" >Thanks for connecting Chidi! Saw you're building something exciting at Rulebase. Your background in fintech at Goldman plus founding experience is super interesting. I run Pipeline - we help early B2B startups scale their outbound sales (especially YC companies). Not to presume, but if you're thinking about your GTM strategy for F24, I'd love to share what's working for other YC founders we work with. Free for a quick chat this week?</td>\n",
       "    </tr>\n",
       "    <tr>\n",
       "      <th id=\"T_7204b_level0_row10\" class=\"row_heading level0 row10\" >10</th>\n",
       "      <td id=\"T_7204b_row10_col0\" class=\"data row10 col0\" >Alexandre Berkovic</td>\n",
       "      <td id=\"T_7204b_row10_col1\" class=\"data row10 col1\" >Hi Alexandre - Sudarshan here. Your work at Bear Robotics and now with Sphinx caught my interest (congrats on YC btw). Would love to connect and hear about the problems you're solving in AI. Your MIT + Amazon background must give you a unique perspective on the space.</td>\n",
       "      <td id=\"T_7204b_row10_col2\" class=\"data row10 col2\" >Thanks for connecting Alexandre! I noticed you're building Sphinx - congrats on getting into YC F24. As a fellow founder, I've been helping early-stage B2B startups like yours automate their outbound sales process so founders can focus on product and fundraising. Based on your background at Bear Robotics and Amazon, I'm curious about your GTM strategy for Sphinx. Would love to share what's working for other YC founders in your batch and hear your thoughts. Free for a quick chat this week?</td>\n",
       "    </tr>\n",
       "    <tr>\n",
       "      <th id=\"T_7204b_level0_row11\" class=\"row_heading level0 row11\" >11</th>\n",
       "      <td id=\"T_7204b_row11_col0\" class=\"data row11 col0\" >Shravan Kumaran</td>\n",
       "      <td id=\"T_7204b_row11_col1\" class=\"data row11 col1\" >Hey Shravan - saw your work building out supercontrast after Google and Nintendo (pretty cool path btw). Running Pipeline here in SF and noticed some interesting overlap in the B2B/SaaS space. Would love to learn more about what you're building and share ideas.</td>\n",
       "      <td id=\"T_7204b_row11_col2\" class=\"data row11 col2\" >Thanks for connecting Shravan! Saw you're building something cool at supercontrast after your time at Google and Nintendo (quite the combo). I've been helping B2B startups scale their outreach - we recently helped a YC company hit 110% of their sales quota by automating their LinkedIn outbound. Would love to learn more about what you're working on and share how we could potentially help supercontrast with automated lead gen. Free for a quick call this week?</td>\n",
       "    </tr>\n",
       "  </tbody>\n",
       "</table>\n"
      ]
     },
     "execution_count": 5,
     "metadata": {},
     "output_type": "execute_result"
    }
   ],
   "execution_count": 5
  },
  {
   "metadata": {
    "ExecuteTime": {
     "end_time": "2024-12-24T16:30:44.663304Z",
     "start_time": "2024-12-24T16:30:44.662155Z"
    }
   },
   "cell_type": "code",
   "source": "",
   "id": "502bcebe5415656d",
   "outputs": [],
   "execution_count": 5
  }
 ],
 "metadata": {
  "kernelspec": {
   "display_name": "Python 3",
   "language": "python",
   "name": "python3"
  },
  "language_info": {
   "codemirror_mode": {
    "name": "ipython",
    "version": 2
   },
   "file_extension": ".py",
   "mimetype": "text/x-python",
   "name": "python",
   "nbconvert_exporter": "python",
   "pygments_lexer": "ipython2",
   "version": "2.7.6"
  }
 },
 "nbformat": 4,
 "nbformat_minor": 5
}
