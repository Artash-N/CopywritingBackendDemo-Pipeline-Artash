{
 "cells": [
  {
   "cell_type": "code",
   "id": "initial_id",
   "metadata": {
    "collapsed": true,
    "ExecuteTime": {
     "end_time": "2024-12-24T05:22:03.528888Z",
     "start_time": "2024-12-24T05:22:03.136363Z"
    }
   },
   "source": [
    "# Import necessary modules\n",
    "import os\n",
    "import pandas as pd\n",
    "from dotenv import load_dotenv\n",
    "from modules.paragraph_generation import generate_paragraph, generate_advertising_paragraph\n",
    "from modules.data_processing import load_and_filter_data, preprocess_columns_simple, enrich_advertiser_data_with_domain\n",
    "from modules.linkedin_requests import initialize_client, generate_linkedin_request, generate_followup_message\n",
    "\n",
    "# Load API key\n",
    "load_dotenv()\n",
    "ANTHROPIC_API_KEY = os.getenv('ANTHROPIC_API_KEY')\n",
    "pd.set_option('display.expand_frame_repr', False)\n"
   ],
   "outputs": [],
   "execution_count": 1
  },
  {
   "metadata": {
    "ExecuteTime": {
     "end_time": "2024-12-24T05:22:03.668526Z",
     "start_time": "2024-12-24T05:22:03.529646Z"
    }
   },
   "cell_type": "code",
   "source": [
    "# Load and preprocess datasets\n",
    "people_path = './data/YC F24 Founder People.csv'\n",
    "personal_data_path = './data/Sudarshan Sridharan People.csv'\n",
    "\n",
    "relevant_columns = [\n",
    "    'full_name', 'title', 'location', 'company', 'company_linkedin',\n",
    "    'company_description', 'sub_title', 'summary', 'current_job_description',\n",
    "    'person_industry', 'skills', 'education', 'work_history', 'company_domain'\n",
    "]\n",
    "\n",
    "people_data = load_and_filter_data(people_path, relevant_columns)\n",
    "people_data = preprocess_columns_simple(people_data)\n",
    "\n",
    "personal_data = load_and_filter_data(personal_data_path, relevant_columns)\n",
    "personal_data = preprocess_columns_simple(personal_data)\n",
    "\n",
    "# Enrich personal data with domain information\n",
    "personal_data = enrich_advertiser_data_with_domain(personal_data)\n",
    "\n",
    "# Generate paragraphs\n",
    "people_data['descriptive_paragraph'] = people_data.apply(generate_paragraph, axis=1)\n",
    "personal_data['advertising_paragraph'] = personal_data.apply(generate_advertising_paragraph, axis=1)\n"
   ],
   "id": "ae2c9af474bcfd2c",
   "outputs": [],
   "execution_count": 2
  },
  {
   "metadata": {
    "ExecuteTime": {
     "end_time": "2024-12-24T05:22:04.011413Z",
     "start_time": "2024-12-24T05:22:04.003997Z"
    }
   },
   "cell_type": "code",
   "source": "personal_data",
   "id": "1ac65d91399a7e5b",
   "outputs": [
    {
     "data": {
      "text/plain": [
       "             full_name    title                                           location   company                               company_linkedin                                company_description      sub_title  summary                            current_job_description                       person_industry     skills           education                                       work_history    company_domain                                        domain_info                              advertising_paragraph\n",
       "0  Sudarshan Sridharan  Founder  San Francisco Bay, San Francisco Bay Area, Uni...  Pipeline  https://www.linkedin.com/company/withpipeline  Get more leads, close more deals. Pipeline set...  CEO, Pipeline      NaN  Pipeline puts LinkedIn prospecting and outreac...  Technology, Information and Internet  Investing  Clemson University  Pipeline, Fion Technologies, SaveMAPS, Second ...  withpipeline.com  Sign Up → Sign Up → NEW Supercharge Your Sales...  Sudarshan Sridharan is the Founder at Pipeline..."
      ],
      "text/html": [
       "<div>\n",
       "<style scoped>\n",
       "    .dataframe tbody tr th:only-of-type {\n",
       "        vertical-align: middle;\n",
       "    }\n",
       "\n",
       "    .dataframe tbody tr th {\n",
       "        vertical-align: top;\n",
       "    }\n",
       "\n",
       "    .dataframe thead th {\n",
       "        text-align: right;\n",
       "    }\n",
       "</style>\n",
       "<table border=\"1\" class=\"dataframe\">\n",
       "  <thead>\n",
       "    <tr style=\"text-align: right;\">\n",
       "      <th></th>\n",
       "      <th>full_name</th>\n",
       "      <th>title</th>\n",
       "      <th>location</th>\n",
       "      <th>company</th>\n",
       "      <th>company_linkedin</th>\n",
       "      <th>company_description</th>\n",
       "      <th>sub_title</th>\n",
       "      <th>summary</th>\n",
       "      <th>current_job_description</th>\n",
       "      <th>person_industry</th>\n",
       "      <th>skills</th>\n",
       "      <th>education</th>\n",
       "      <th>work_history</th>\n",
       "      <th>company_domain</th>\n",
       "      <th>domain_info</th>\n",
       "      <th>advertising_paragraph</th>\n",
       "    </tr>\n",
       "  </thead>\n",
       "  <tbody>\n",
       "    <tr>\n",
       "      <th>0</th>\n",
       "      <td>Sudarshan Sridharan</td>\n",
       "      <td>Founder</td>\n",
       "      <td>San Francisco Bay, San Francisco Bay Area, Uni...</td>\n",
       "      <td>Pipeline</td>\n",
       "      <td>https://www.linkedin.com/company/withpipeline</td>\n",
       "      <td>Get more leads, close more deals. Pipeline set...</td>\n",
       "      <td>CEO, Pipeline</td>\n",
       "      <td>NaN</td>\n",
       "      <td>Pipeline puts LinkedIn prospecting and outreac...</td>\n",
       "      <td>Technology, Information and Internet</td>\n",
       "      <td>Investing</td>\n",
       "      <td>Clemson University</td>\n",
       "      <td>Pipeline, Fion Technologies, SaveMAPS, Second ...</td>\n",
       "      <td>withpipeline.com</td>\n",
       "      <td>Sign Up → Sign Up → NEW Supercharge Your Sales...</td>\n",
       "      <td>Sudarshan Sridharan is the Founder at Pipeline...</td>\n",
       "    </tr>\n",
       "  </tbody>\n",
       "</table>\n",
       "</div>"
      ]
     },
     "execution_count": 3,
     "metadata": {},
     "output_type": "execute_result"
    }
   ],
   "execution_count": 3
  },
  {
   "metadata": {
    "ExecuteTime": {
     "end_time": "2024-12-24T05:23:09.118032Z",
     "start_time": "2024-12-24T05:22:08.371432Z"
    }
   },
   "cell_type": "code",
   "source": [
    "# Load the system prompt from a .txt file\n",
    "with open('system_prompt.txt', 'r') as file:\n",
    "    system_prompt = file.read()\n",
    "\n",
    "# Initialize Anthropic client\n",
    "client = initialize_client(ANTHROPIC_API_KEY)\n",
    "\n",
    "# Use the first advertiser's data for testing\n",
    "advertising_paragraph = personal_data['advertising_paragraph'].iloc[0]\n",
    "domain_info = personal_data['domain_info'].iloc[0]\n",
    "\n",
    "# Process only the first 10 entries\n",
    "max_entries = 10\n",
    "\n",
    "results = []\n",
    "\n",
    "print(\"Generated LinkedIn Requests and Follow-Up Messages:\\n\" + \"=\" * 50)\n",
    "\n",
    "for idx, row in people_data.iterrows():\n",
    "    if idx >= max_entries:\n",
    "        break\n",
    "    \n",
    "    descriptive_paragraph = row['descriptive_paragraph']\n",
    "    \n",
    "    # Generate the connection request\n",
    "    connect_note = generate_linkedin_request(client, advertising_paragraph, descriptive_paragraph, domain_info, system_prompt)\n",
    "    \n",
    "    # Generate the follow-up message\n",
    "    follow_up_message = generate_followup_message(client, advertising_paragraph, descriptive_paragraph, domain_info, system_prompt)\n",
    "    \n",
    "    # Collect results\n",
    "    results.append({\n",
    "        'Name': row['full_name'],\n",
    "        'Connect Note': connect_note,\n",
    "        'Follow-Up Message': follow_up_message\n",
    "    })\n",
    "\n",
    "# Create DataFrame from results\n",
    "output_df = pd.DataFrame(results)\n",
    "\n",
    "# Display the DataFrame\n",
    "output_df.style.set_properties(**{'text-align': 'left'})\n",
    "\n",
    "# Save the DataFrame to a CSV for reference\n",
    "output_df.to_csv('linkedin_messages.csv', index=False)"
   ],
   "id": "759b8896e2d3fe83",
   "outputs": [
    {
     "name": "stdout",
     "output_type": "stream",
     "text": [
      "Generated LinkedIn Requests and Follow-Up Messages:\n",
      "==================================================\n"
     ]
    }
   ],
   "execution_count": 4
  },
  {
   "metadata": {
    "ExecuteTime": {
     "end_time": "2024-12-24T05:23:09.122296Z",
     "start_time": "2024-12-24T05:23:09.119034Z"
    }
   },
   "cell_type": "code",
   "source": "output_df.style",
   "id": "5f523fd094ec3fe3",
   "outputs": [
    {
     "data": {
      "text/plain": [
       "<pandas.io.formats.style.Styler at 0x116a6fef0>"
      ],
      "text/html": [
       "<style type=\"text/css\">\n",
       "</style>\n",
       "<table id=\"T_3d003\">\n",
       "  <thead>\n",
       "    <tr>\n",
       "      <th class=\"blank level0\" >&nbsp;</th>\n",
       "      <th id=\"T_3d003_level0_col0\" class=\"col_heading level0 col0\" >Name</th>\n",
       "      <th id=\"T_3d003_level0_col1\" class=\"col_heading level0 col1\" >Connect Note</th>\n",
       "      <th id=\"T_3d003_level0_col2\" class=\"col_heading level0 col2\" >Follow-Up Message</th>\n",
       "    </tr>\n",
       "  </thead>\n",
       "  <tbody>\n",
       "    <tr>\n",
       "      <th id=\"T_3d003_level0_row0\" class=\"row_heading level0 row0\" >0</th>\n",
       "      <td id=\"T_3d003_row0_col0\" class=\"data row0 col0\" >Edward Aryee</td>\n",
       "      <td id=\"T_3d003_row0_col1\" class=\"data row0 col1\" >Hey Edward! Great to connect with another startup founder in SF. Really liked reading about SRE.ai's recent YC acceptance. Having worked with early-stage B2B companies, I'd love to hear more about what you're building. Always enjoy connecting with fellow tech entrepreneurs in the bay!</td>\n",
       "      <td id=\"T_3d003_row0_col2\" class=\"data row0 col2\" >Hey Edward! Really enjoy following your journey with SRE.ai - getting into YC F24 is huge. Saw your background at Google and Microsoft, particularly interested in your SRE work there. I run Pipeline, where we help B2B startups build and manage their outbound sales processes - something I thought might be relevant given you're now in founder mode at SRE.ai. Would love to learn more about your experience switching from big tech to startup life and share some insights on building early-stage sales motions. Have time for a quick call next week?</td>\n",
       "    </tr>\n",
       "    <tr>\n",
       "      <th id=\"T_3d003_level0_row1\" class=\"row_heading level0 row1\" >1</th>\n",
       "      <td id=\"T_3d003_row1_col0\" class=\"data row1 col0\" >Victor Cheng</td>\n",
       "      <td id=\"T_3d003_row1_col1\" class=\"data row1 col1\" >Hey Victor! Saw you're building vly.ai through YC F24. As a fellow founder who's worked with early-stage startups, I'd love to connect and hear more about your journey from Autodesk to launching your own company. Your robotics experience with FRC Team 2976 sounds pretty cool too.</td>\n",
       "      <td id=\"T_3d003_row1_col2\" class=\"data row1 col2\" >Hey Victor - thanks for connecting! Been following your progress with vly.ai's YC batch. Your work on automating video personalization caught my attention, particularly given my background in B2B automation. At Pipeline, we've been helping early-stage startups automate their outreach and lead gen - would love to chat about some complementary approaches we've found work well for YC companies specifically. Up for a quick call next week to compare notes on automation and scaling? I'm pretty flexible on timing.</td>\n",
       "    </tr>\n",
       "    <tr>\n",
       "      <th id=\"T_3d003_level0_row2\" class=\"row_heading level0 row2\" >2</th>\n",
       "      <td id=\"T_3d003_row2_col0\" class=\"data row2 col0\" >Daryl Budiman</td>\n",
       "      <td id=\"T_3d003_row2_col1\" class=\"data row2 col1\" >Hey Daryl, I see you're in the YC24 batch! I'm working on sales tools for startups at Pipeline - my team's helping other YC founders scale their outreach. Curious to learn more about what you're building at Andoria.</td>\n",
       "      <td id=\"T_3d003_row2_col2\" class=\"data row2 col2\" >Hey Daryl - pumped to connect! As a YC founder on the startup journey, you probably know the grind of keeping sales moving. I noticed you're working on something new with Andoria (congrats on getting into YC F24 btw). Would love to hear more about it and share how we're helping other YC companies streamline their outbound process. Have time for a quick call next week? I can work around your schedule.</td>\n",
       "    </tr>\n",
       "    <tr>\n",
       "      <th id=\"T_3d003_level0_row3\" class=\"row_heading level0 row3\" >3</th>\n",
       "      <td id=\"T_3d003_row3_col0\" class=\"data row3 col0\" >Finn Mallery</td>\n",
       "      <td id=\"T_3d003_row3_col1\" class=\"data row3 col1\" >Hey Finn - saw you're working on Origami Agents through YC. Really intrigued by AI agents. I also built tech for startups while at Clemson (though not nearly as cutting edge as yours). Would love to connect and hear more about your approach to agent architecture.</td>\n",
       "      <td id=\"T_3d003_row3_col2\" class=\"data row3 col2\" >Hey Finn - I saw you're diving into YC right now with Origami Agents (big congrats on F24!). I run Pipeline where we help early-stage founders like yourself with outbound sales automation. Given your Stanford background, I'd love to share how other YC founders are scaling their outreach, especially at the early stage. Would you be up for a quick chat next week to explore if this could help with Origami's growth?</td>\n",
       "    </tr>\n",
       "    <tr>\n",
       "      <th id=\"T_3d003_level0_row4\" class=\"row_heading level0 row4\" >4</th>\n",
       "      <td id=\"T_3d003_row4_col0\" class=\"data row4 col0\" >Arvind V.</td>\n",
       "      <td id=\"T_3d003_row4_col1\" class=\"data row4 col1\" >Hey Arvind - saw you're building Fresco as part of YC F24. Interesting pivot from January AI's personalized nutrition space. Working on sales tools for early B2B startups at Pipeline, would love to learn what sparked your current venture.</td>\n",
       "      <td id=\"T_3d003_row4_col2\" class=\"data row4 col2\" >Hey Arvind - congrats on getting into YC F24! I noticed you've worked extensively in healthtech with January AI and Vault Health. I run a company that helps early-stage B2B startups automate their outbound sales (we've worked with several YC companies). Would love to share some insights on what's working well for other founders in your batch. Quick 15-min call sometime next week? I'm curious to learn more about Fresco too!</td>\n",
       "    </tr>\n",
       "    <tr>\n",
       "      <th id=\"T_3d003_level0_row5\" class=\"row_heading level0 row5\" >5</th>\n",
       "      <td id=\"T_3d003_row5_col0\" class=\"data row5 col0\" >Daniel Edrisian</td>\n",
       "      <td id=\"T_3d003_row5_col1\" class=\"data row5 col1\" >Hey Daniel! Really intrigued by what you're doing with Alex in YC's upcoming batch. The transition from Google and FB into founding your own startup must have been quite the journey. I'm also building in sales tech - would love to swap startup experiences.</td>\n",
       "      <td id=\"T_3d003_row5_col2\" class=\"data row5 col2\" >Hey Daniel, been following your journey building Alex - really excited to see you got into YC! I've spent the last few years helping YC founders scale their sales operations, and noticed you're diving into the early stages of GTM. Our tech has been particularly helpful for YC B2B companies looking to automate their outreach while staying focused on product development. Would love to hear more about your sales strategy and share some insights from working with similar stage founders. Have time for a quick call next week?</td>\n",
       "    </tr>\n",
       "    <tr>\n",
       "      <th id=\"T_3d003_level0_row6\" class=\"row_heading level0 row6\" >6</th>\n",
       "      <td id=\"T_3d003_row6_col0\" class=\"data row6 col0\" >Shardool Patel</td>\n",
       "      <td id=\"T_3d003_row6_col1\" class=\"data row6 col1\" >Hey Shardool - noticed you're building something exciting at Ryvn (saw the YC F24 announcement). Your transition from Palantir to founding is super interesting. Coming from Clemson's startup scene myself, would love to connect and hear about your journey into tech.</td>\n",
       "      <td id=\"T_3d003_row6_col2\" class=\"data row6 col2\" >Hey Shardool, saw you're building Ryvn and advancing through YC F24 - must be quite a journey after your time at Palantir! As someone who's worked with early-stage B2B startups, I've noticed founders often struggle with outbound sales while building their product. We've helped YC companies streamline their sales outreach and lead generation, letting them focus more on product development. I'd love to get your take on how you're thinking about sales for Ryvn. Would you be open to a quick chat next week?</td>\n",
       "    </tr>\n",
       "    <tr>\n",
       "      <th id=\"T_3d003_level0_row7\" class=\"row_heading level0 row7\" >7</th>\n",
       "      <td id=\"T_3d003_row7_col0\" class=\"data row7 col0\" >Philipp Baumanns</td>\n",
       "      <td id=\"T_3d003_row7_col1\" class=\"data row7 col1\" >Hey Philipp! Read about your YC F24 acceptance for telli - major milestone for the company. Building automation tools for B2B startups at Pipeline, and your experience scaling at Enpal caught my eye given some overlapping challenges. Would love to connect and share notes.</td>\n",
       "      <td id=\"T_3d003_row7_col2\" class=\"data row7 col2\" >Hey Philipp! As a YC founder, you're probably deep in scaling telli right now. We've been working with several YC startups to help them scale their outbound sales - know the early-stage hustle well from my own startup days. Would love to share some insights we've gained from helping companies like yours automate their LinkedIn outreach and sales processes. Have time for a quick chat next week? Happy to work around your schedule.</td>\n",
       "    </tr>\n",
       "    <tr>\n",
       "      <th id=\"T_3d003_level0_row8\" class=\"row_heading level0 row8\" >8</th>\n",
       "      <td id=\"T_3d003_row8_col0\" class=\"data row8 col0\" >Akhil Gupta</td>\n",
       "      <td id=\"T_3d003_row8_col1\" class=\"data row8 col1\" >Hey Akhil! Saw that you're working on Fresco as part of YC F24. I've been working with early-stage founders at Pipeline and noticed you've had an interesting path from Lumen Energy to clean tech. Would love to connect and learn more about your current work.</td>\n",
       "      <td id=\"T_3d003_row8_col2\" class=\"data row8 col2\" >Hey Akhil - checked out what you're building with Fresco and YC F24! I run Pipeline, where we help early-stage B2B startups scale their sales outreach. Given your experience at TikTok and now founding your own startup, you probably understand the challenge of finding and connecting with the right people. I've helped several YC founders streamline their sales process - would love to hop on a quick call next week to share some insights and learn more about Fresco. What's your schedule looking like?</td>\n",
       "    </tr>\n",
       "    <tr>\n",
       "      <th id=\"T_3d003_level0_row9\" class=\"row_heading level0 row9\" >9</th>\n",
       "      <td id=\"T_3d003_row9_col0\" class=\"data row9 col0\" >Chidi Williams</td>\n",
       "      <td id=\"T_3d003_row9_col1\" class=\"data row9 col1\" >Hey Chidi - was looking through YC's F24 batch and saw Rulebase. Really curious about your journey from Goldman to building in fintech - your background in finance + startup experience is quite a unique mix. Would love to connect and learn more about what you're building.</td>\n",
       "      <td id=\"T_3d003_row9_col2\" class=\"data row9 col2\" >Hey Chidi! Really cool to see what you're building with Rulebase - must be an exciting time being part of YC F24. I noticed your background in fintech at Goldman and wanted to share something relevant. We've built some interesting automation tools specifically for B2B startups that have helped YC companies streamline their sales processes. Would love to hop on a quick call next week to share some specific use cases that might be valuable as you scale Rulebase. Any chance you have 15 minutes to chat on Tuesday or Wednesday?</td>\n",
       "    </tr>\n",
       "  </tbody>\n",
       "</table>\n"
      ]
     },
     "execution_count": 5,
     "metadata": {},
     "output_type": "execute_result"
    }
   ],
   "execution_count": 5
  },
  {
   "metadata": {
    "ExecuteTime": {
     "end_time": "2024-12-24T05:20:24.539373Z",
     "start_time": "2024-12-24T05:20:24.538009Z"
    }
   },
   "cell_type": "code",
   "source": "",
   "id": "502bcebe5415656d",
   "outputs": [],
   "execution_count": 5
  }
 ],
 "metadata": {
  "kernelspec": {
   "display_name": "Python 3",
   "language": "python",
   "name": "python3"
  },
  "language_info": {
   "codemirror_mode": {
    "name": "ipython",
    "version": 2
   },
   "file_extension": ".py",
   "mimetype": "text/x-python",
   "name": "python",
   "nbconvert_exporter": "python",
   "pygments_lexer": "ipython2",
   "version": "2.7.6"
  }
 },
 "nbformat": 4,
 "nbformat_minor": 5
}
